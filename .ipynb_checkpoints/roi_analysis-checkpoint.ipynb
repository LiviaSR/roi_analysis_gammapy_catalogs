{
 "cells": [
  {
   "cell_type": "code",
   "execution_count": null,
   "id": "fa1401b6",
   "metadata": {},
   "outputs": [],
   "source": [
    "from gammapy.modeling.models import Models\n",
    "from gammapy.datasets import Datasets\n",
    "from gammapy.modeling.models import SkyModel\n",
    "from gammapy.modeling.models import PowerLawSpectralModel\n",
    "from astropy.table import Table\n",
    "from gammapy.modeling import Fit\n",
    "from gammapy.modeling.models import LogParabolaSpectralModel"
   ]
  },
  {
   "cell_type": "code",
   "execution_count": 6,
   "id": "abde0362",
   "metadata": {},
   "outputs": [
    {
     "data": {
      "text/plain": [
       "'/config'"
      ]
     },
     "execution_count": 6,
     "metadata": {},
     "output_type": "execute_result"
    }
   ],
   "source": [
    "module_path"
   ]
  },
  {
   "cell_type": "code",
   "execution_count": 5,
   "id": "476aff0a",
   "metadata": {},
   "outputs": [
    {
     "ename": "ModuleNotFoundError",
     "evalue": "No module named 'cfg'",
     "output_type": "error",
     "traceback": [
      "\u001b[0;31m---------------------------------------------------------------------------\u001b[0m",
      "\u001b[0;31mModuleNotFoundError\u001b[0m                       Traceback (most recent call last)",
      "Input \u001b[0;32mIn [5]\u001b[0m, in \u001b[0;36m<cell line: 10>\u001b[0;34m()\u001b[0m\n\u001b[1;32m      7\u001b[0m \u001b[38;5;28;01mif\u001b[39;00m module_path \u001b[38;5;129;01mnot\u001b[39;00m \u001b[38;5;129;01min\u001b[39;00m sys\u001b[38;5;241m.\u001b[39mpath:\n\u001b[1;32m      8\u001b[0m     sys\u001b[38;5;241m.\u001b[39mpath\u001b[38;5;241m.\u001b[39mappend(module_path)\n\u001b[0;32m---> 10\u001b[0m \u001b[38;5;28;01mimport\u001b[39;00m \u001b[38;5;21;01mcfg\u001b[39;00m\n\u001b[1;32m     11\u001b[0m importlib\u001b[38;5;241m.\u001b[39mreload(cfg)\n",
      "\u001b[0;31mModuleNotFoundError\u001b[0m: No module named 'cfg'"
     ]
    }
   ],
   "source": [
    "import os\n",
    "import sys\n",
    "import importlib\n",
    "path_my_modules = \"\"\n",
    "\n",
    "module_path = os.path.abspath(f'{path_my_modules}/config')\n",
    "if module_path not in sys.path:\n",
    "    sys.path.append(module_path)\n",
    "\n",
    "import cfg\n",
    "importlib.reload(cfg)"
   ]
  },
  {
   "cell_type": "code",
   "execution_count": 2,
   "id": "75251402",
   "metadata": {},
   "outputs": [],
   "source": [
    "from astropy import units as u"
   ]
  },
  {
   "cell_type": "code",
   "execution_count": 1,
   "id": "d39804f5",
   "metadata": {},
   "outputs": [
    {
     "data": {
      "text/plain": [
       "<module 'cfg' from '/home/born-again/Documents/GitHub/CTA_projects/my_modules/config/cfg.py'>"
      ]
     },
     "execution_count": 1,
     "metadata": {},
     "output_type": "execute_result"
    }
   ],
   "source": [
    "import os\n",
    "import sys\n",
    "import importlib\n",
    "path_my_modules = \"/home/born-again/Documents/GitHub/CTA_projects/my_modules\"\n",
    "\n",
    "module_path = os.path.abspath(f'{path_my_modules}/config')\n",
    "if module_path not in sys.path:\n",
    "    sys.path.append(module_path)\n",
    "\n",
    "import cfg\n",
    "importlib.reload(cfg)"
   ]
  },
  {
   "cell_type": "code",
   "execution_count": 12,
   "id": "97d2396c",
   "metadata": {
    "scrolled": true
   },
   "outputs": [
    {
     "data": {
      "text/plain": [
       "<module 'plot' from '/home/born-again/Documents/GitHub/CTA_projects/my_modules/plot_style/plot.py'>"
      ]
     },
     "execution_count": 12,
     "metadata": {},
     "output_type": "execute_result"
    }
   ],
   "source": [
    "module_path = os.path.abspath(f'{path_my_modules}/{cfg.dir_plot_style}')\n",
    "if module_path not in sys.path:\n",
    "    print(sys.path.append(module_path))\n",
    "    sys.path.append(module_path)\n",
    "\n",
    "import plot\n",
    "importlib.reload(plot)"
   ]
  },
  {
   "cell_type": "code",
   "execution_count": 25,
   "id": "db58ffec",
   "metadata": {},
   "outputs": [
    {
     "data": {
      "text/plain": [
       "<module 'utilities' from '/home/born-again/Documents/GitHub/CTA_projects/my_modules/utilities/utilities.py'>"
      ]
     },
     "execution_count": 25,
     "metadata": {},
     "output_type": "execute_result"
    }
   ],
   "source": [
    "module_path = os.path.abspath(f'{path_my_modules}/{cfg.dir_utilities}')\n",
    "if module_path not in sys.path:\n",
    "    sys.path.append(module_path)\n",
    "\n",
    "import utilities as utl\n",
    "importlib.reload(utl)"
   ]
  },
  {
   "cell_type": "code",
   "execution_count": 5,
   "id": "f0a52daf",
   "metadata": {
    "scrolled": false
   },
   "outputs": [
    {
     "data": {
      "text/plain": [
       "<module 'spectral_models' from '/home/born-again/Documents/GitHub/CTA_projects/my_modules/spectral_models/spectral_models.py'>"
      ]
     },
     "execution_count": 5,
     "metadata": {},
     "output_type": "execute_result"
    }
   ],
   "source": [
    "module_path = os.path.abspath(f'{path_my_modules}/{cfg.dir_spectral_models}')\n",
    "if module_path not in sys.path:\n",
    "    sys.path.append(module_path)\n",
    "\n",
    "import spectral_models as spec\n",
    "importlib.reload(spec)"
   ]
  },
  {
   "cell_type": "code",
   "execution_count": 6,
   "id": "0a515133",
   "metadata": {},
   "outputs": [
    {
     "data": {
      "text/plain": [
       "<module 'hawc_analysis' from '/home/born-again/Documents/GitHub/CTA_projects/my_modules/hawc_analysis/hawc_analysis.py'>"
      ]
     },
     "execution_count": 6,
     "metadata": {},
     "output_type": "execute_result"
    }
   ],
   "source": [
    "module_path = os.path.abspath(f'{path_my_modules}/{cfg.dir_hawc_analysis}')\n",
    "if module_path not in sys.path:\n",
    "    print(sys.path.append(module_path))\n",
    "    sys.path.append(module_path)\n",
    "\n",
    "import hawc_analysis as hawc\n",
    "importlib.reload(hawc)"
   ]
  },
  {
   "cell_type": "code",
   "execution_count": 7,
   "id": "6eec9984",
   "metadata": {},
   "outputs": [
    {
     "name": "stdout",
     "output_type": "stream",
     "text": [
      "None\n"
     ]
    },
    {
     "data": {
      "text/plain": [
       "<module 'lhaaso_analysis' from '/home/born-again/Documents/GitHub/CTA_projects/my_modules/lhaaso_analysis/lhaaso_analysis.py'>"
      ]
     },
     "execution_count": 7,
     "metadata": {},
     "output_type": "execute_result"
    }
   ],
   "source": [
    "module_path = os.path.abspath(f'{path_my_modules}/{cfg.dir_lhaaso_analysis}')\n",
    "if module_path not in sys.path:\n",
    "    print(sys.path.append(module_path))\n",
    "    sys.path.append(module_path)\n",
    "\n",
    "import lhaaso_analysis as lhaaso\n",
    "importlib.reload(lhaaso)"
   ]
  },
  {
   "cell_type": "code",
   "execution_count": 13,
   "id": "5cfb172d",
   "metadata": {},
   "outputs": [
    {
     "data": {
      "text/plain": [
       "<module 'gammapy_catalogs' from '/home/born-again/Documents/GitHub/CTA_projects/my_modules/gammapy_catalogs/gammapy_catalogs.py'>"
      ]
     },
     "execution_count": 13,
     "metadata": {},
     "output_type": "execute_result"
    }
   ],
   "source": [
    "module_path = os.path.abspath(f'{path_my_modules}/{cfg.dir_gammapy_catalogs}')\n",
    "if module_path not in sys.path:\n",
    "    print(sys.path.append(module_path))\n",
    "    sys.path.append(module_path)\n",
    "\n",
    "import gammapy_catalogs as gammapy_cat\n",
    "importlib.reload(gammapy_cat)"
   ]
  },
  {
   "cell_type": "code",
   "execution_count": 9,
   "id": "a2039daa",
   "metadata": {},
   "outputs": [
    {
     "data": {
      "text/plain": [
       "<module 'hess_analysis' from '/home/born-again/Documents/GitHub/CTA_projects/my_modules/hess_analysis/hess_analysis.py'>"
      ]
     },
     "execution_count": 9,
     "metadata": {},
     "output_type": "execute_result"
    }
   ],
   "source": [
    "module_path = os.path.abspath(f'{path_my_modules}/{cfg.dir_hess_analysis}')\n",
    "if module_path not in sys.path:\n",
    "    print(sys.path.append(module_path))\n",
    "    sys.path.append(module_path)\n",
    "\n",
    "import hess_analysis as hess\n",
    "importlib.reload(hess)"
   ]
  },
  {
   "cell_type": "code",
   "execution_count": 10,
   "id": "8b55ef24",
   "metadata": {},
   "outputs": [
    {
     "data": {
      "text/plain": [
       "<module 'cta_simulation' from '/home/born-again/Documents/GitHub/CTA_projects/my_modules/cta_simulation/cta_simulation.py'>"
      ]
     },
     "execution_count": 10,
     "metadata": {},
     "output_type": "execute_result"
    }
   ],
   "source": [
    "module_path = os.path.abspath(f'{path_my_modules}/{cfg.dir_cta_simulation}')\n",
    "if module_path not in sys.path:\n",
    "    print(sys.path.append(module_path))\n",
    "    sys.path.append(module_path)\n",
    "\n",
    "import cta_simulation as cta\n",
    "importlib.reload(cta)"
   ]
  },
  {
   "cell_type": "code",
   "execution_count": 11,
   "id": "3f855ae7",
   "metadata": {},
   "outputs": [],
   "source": [
    "%matplotlib inline\n",
    "import matplotlib.pyplot as plt # A collection of command style functions\n",
    "\n",
    "\n",
    "path_my_plot_style = f\"{path_my_modules}/{cfg.dir_plot_style}/my_plot_style_2.txt\" \n",
    "plt.style.use(path_my_plot_style)"
   ]
  },
  {
   "cell_type": "code",
   "execution_count": null,
   "id": "1d20d92f",
   "metadata": {
    "scrolled": true
   },
   "outputs": [],
   "source": [
    "from gammapy.utils.check import check_tutorials_setup\n",
    "from gammapy.visualization.utils import plot_contour_line\n",
    "check_tutorials_setup()"
   ]
  },
  {
   "cell_type": "code",
   "execution_count": null,
   "id": "a18dcf97",
   "metadata": {},
   "outputs": [],
   "source": []
  },
  {
   "cell_type": "code",
   "execution_count": null,
   "id": "f5c9f1b7",
   "metadata": {},
   "outputs": [],
   "source": [
    "import pandas as pd \n",
    "def create_df_latex(sky_model, pulsar_name):\n",
    "    \n",
    "    table = sky_model.parameters.to_table()\n",
    "    df = table.to_pandas()\n",
    "\n",
    "    coluns_name = []\n",
    "    df_column = []\n",
    "    coluns_name.append(\"Pulsar name\")\n",
    "    df_column.append(pulsar_name)\n",
    "    \n",
    "    for i, name in enumerate(df[\"name\"]):\n",
    "        if i<=3:\n",
    "            value = df[\"value\"][i]\n",
    "            error = df[\"error\"][i]\n",
    "            frozen = df[\"frozen\"][i]\n",
    "            unit = df[\"unit\"][i]\n",
    "            if frozen == True:\n",
    "                value = \"{:.0f}\".format(value)\n",
    "            else: \n",
    "                value = \"{:.2e} ({:.2e})\".format(value, error)\n",
    "\n",
    "            if unit:\n",
    "                name = f\"{name} ({unit})\"\n",
    "\n",
    "            coluns_name.append(name)\n",
    "            df_column.append(value)\n",
    "    df = pd.DataFrame([df_column], columns = coluns_name)\n",
    "    df_tex  = df.to_latex(index=False)\n",
    "    return print(df_tex)"
   ]
  },
  {
   "cell_type": "code",
   "execution_count": null,
   "id": "c660f586",
   "metadata": {},
   "outputs": [],
   "source": [
    "from astropy.coordinates import SkyCoord, Distance\n",
    "\n",
    "def set_pulsar_info(dict_pulsars, pulsar_index):\n",
    "    \"\"\"\n",
    "    Sets the pulsar info into a dictionary\n",
    "    \"\"\"\n",
    "    pulsar_name = list(dict_pulsars.keys())[pulsar_index]\n",
    "    position_RA = list(dict_pulsars.values())[pulsar_index][\"position\"][0]\n",
    "    position_dec = list(dict_pulsars.values())[pulsar_index][\"position\"][1]\n",
    "    pulsar_pos = SkyCoord(position_RA, position_dec) # Source Position\n",
    "    pulsar_dist = Distance(list(dict_pulsars.values())[pulsar_index][\"distance\"])\n",
    "    pulsar_red = float(pulsar_dist.compute_z()) # The source redshift for this distance assuming its physical distance is a luminosity distance.\n",
    "\n",
    "    return  {\n",
    "        \"name\": pulsar_name,\n",
    "        \"position\": pulsar_pos,\n",
    "        \"distance\": pulsar_dist,\n",
    "        \"redshift\": pulsar_red\n",
    "    }"
   ]
  },
  {
   "cell_type": "code",
   "execution_count": null,
   "id": "005e236f",
   "metadata": {},
   "outputs": [],
   "source": [
    "def get_dict_pulsars():  \n",
    "    dict_pulsars = {\n",
    "        'PSR J1826-1334': {\n",
    "            'position': (276.554896, -13.57967) * u.degree, \n",
    "            'distance': 3.1 * u.kpc,\n",
    "            'age': 21.4 * u.kyr,\n",
    "            'luminosity': 2.8e+36 * u.Unit(\"erg s-1\")\n",
    "        },\n",
    "         'PSR J1826-1256': {\n",
    "            'position': (276.53554, -12.94250) * u.degree, \n",
    "            'distance': 1.6 * u.kpc,\n",
    "             'age': 14.4 * u.kyr,\n",
    "             'luminosity': 3.6e+36 * u.Unit(\"erg s-1\")\n",
    "        },\n",
    "         'PSR J1837-0604': {\n",
    "            'position': (279.43146, -6.0803) * u.degree, \n",
    "            'distance': 4.8 * u.kpc,\n",
    "            'age': 33.8 * u.kyr,\n",
    "            'luminosity': 2.0e+36 * u.Unit(\"erg s-1\")\n",
    "        },\n",
    "         'PSR J1838-0537': {\n",
    "            'position': (279.73342, -5.6192) * u.degree, \n",
    "            'distance': 1.3 * u.kpc,\n",
    "             'age': 4.9 * u.kyr,\n",
    "             'luminosity': 6.0e+36 * u.Unit(\"erg s-1\")\n",
    "        },\n",
    "    }\n",
    "    return dict_pulsars"
   ]
  },
  {
   "cell_type": "code",
   "execution_count": null,
   "id": "fb9d2b01",
   "metadata": {},
   "outputs": [],
   "source": [
    "def get_dataset_CTA(pulsar_index, irf_name, sky_model_name):\n",
    "    dict_pulsars = cta.get_dict_pulsars()\n",
    "    pulsar_info = cta.set_pulsar_info(dict_pulsars, pulsar_index)\n",
    "    display(pulsar_info)\n",
    "    file_name = utl.create_file_name(pulsar_info, irf_name, sky_model_name)\n",
    "    \n",
    "#     table_CTA = Table.read(f\"{path_CTA_tables}/{file_name}{cfg.format_csv}\",format='ascii', delimiter=' ', comment='#')\n",
    "    \n",
    "    file_name1 = f'{file_name}_sem'\n",
    "    table_CTA = Table.read(f\"{path_CTA_tables}/{file_name1}{cfg.format_csv}\",format='ascii', delimiter=' ', comment='#')\n",
    "\n",
    "    \n",
    "    datasets_names = f\"CTA - {pulsar_info['name']} (5h)\"\n",
    "    # To read only models\n",
    "    models = Models.read(f\"{path_CTA_models}/{file_name}_model_out.yaml\")\n",
    "    sky_model_CTA = models[0].copy(name=f\"{sky_model_name}_CTA\", datasets_names = datasets_names)\n",
    "    print(sky_model_CTA)\n",
    "    return utl.ds_fp_from_table_fp(table_CTA, sky_model_CTA, source_name=datasets_names), sky_model_CTA\n",
    "    "
   ]
  },
  {
   "cell_type": "code",
   "execution_count": null,
   "id": "5d0a3bc0",
   "metadata": {},
   "outputs": [],
   "source": []
  },
  {
   "cell_type": "code",
   "execution_count": null,
   "id": "3dab067f",
   "metadata": {
    "scrolled": true
   },
   "outputs": [],
   "source": [
    "from astropy import units as u\n",
    "def plot_SED(\n",
    "    name = \"region_of_interest\", \n",
    "    datasets = None,  \n",
    "    models = None,\n",
    "    dict_leg_style = None, \n",
    "    region_of_interest = None,\n",
    "    sed_type = \"e2dnde\", \n",
    "    dict_plot_axis =  dict(\n",
    "    label =  (r'$\\rm{E\\ [TeV] }$', r'$\\rm{E^2\\ J(E)\\ [TeV\\ cm^{-2}\\ s^{-1}] }$'),\n",
    "    units =  (          'TeV',                       'TeV  cm-2     s-1')\n",
    "),\n",
    "    dict_plot_limits = dict(\n",
    "        energy_bounds = [1e-5, 3e2] * u.TeV,\n",
    "        ylim = [1e-23, 1e-7]\n",
    "    ),\n",
    "    dict_leg_place = dict(\n",
    "#         bbox_to_anchor = (0, -0.45), # Set legend outside plot\n",
    "        ncol=3, \n",
    "        loc='lower left', \n",
    "    )\n",
    "):    \n",
    "    \n",
    "    ax = plt.subplot()\n",
    "    \n",
    "    ax.xaxis.set_units(u.Unit(dict_plot_axis['units'][0]))\n",
    "    ax.yaxis.set_units(u.Unit(dict_plot_axis['units'][1]))\n",
    "\n",
    "    kwargs = {\n",
    "        \"ax\": ax, \n",
    "        \"sed_type\": sed_type,\n",
    "#         \"uplims\": True\n",
    "    }\n",
    "\n",
    "#     while len(cfg.markers) < len(datasets) + 1:\n",
    "#          cfg.markers.extend( cfg.markers)\n",
    "                        \n",
    "    for index, dataset in enumerate(datasets):\n",
    "        color = dict_leg_style[dataset.name][0]\n",
    "        marker = dict_leg_style[dataset.name][1]\n",
    "        \n",
    "        \n",
    "        \n",
    "        label = plot.set_label_datasets(dataset.name) \n",
    "            \n",
    "        dataset.data.plot(\n",
    "                    label = label, \n",
    "                    marker = marker, \n",
    "                    color=color,\n",
    "                    **kwargs\n",
    "                )\n",
    "    if models:\n",
    "        path_file =  utl.get_path_SED(region_of_interest)  \n",
    "        for index, model in enumerate(models):\n",
    "            linestyle = dict_leg_style[model.name][1]\n",
    "            color = dict_leg_style[model.name][0]\n",
    "            spectral_model = model.spectral_model\n",
    "            \n",
    "#             spectral_model.plot(label = f\"{model.name} (fit)\", energy_bounds=dict_plot_limits['energy_bounds'],   marker = ',', color=\"black\", **kwargs)\n",
    "            energy_bounds = [7e-2, 8e2] * u.TeV\n",
    "#             energy_bounds=dict_plot_limits['energy_bounds']\n",
    "            spectral_model.plot(energy_bounds=energy_bounds,  linestyle = linestyle, marker = ',', color=color, **kwargs)\n",
    "\n",
    "            spectral_model.plot_error(energy_bounds=energy_bounds,**kwargs)\n",
    "    else:\n",
    "        path_file =  utl.get_path_flux_points(region_of_interest)  \n",
    "    ax.set_ylim(dict_plot_limits['ylim'])\n",
    "    ax.set_xlim(dict_plot_limits['energy_bounds'])\n",
    "    \n",
    "    ax.legend(**dict_leg_place)\n",
    "    \n",
    "    plt.xlabel(dict_plot_axis['label'][0])   \n",
    "    plt.ylabel(dict_plot_axis['label'][1])\n",
    "    \n",
    "    file_name = utl.name_to_txt(name)\n",
    "        \n",
    "    plot.savefig(path_file, file_name)\n",
    "    \n",
    "#     plt.savefig(path_file, bbox_inches='tight')\n",
    "#     plt.grid(which=\"both\")\n",
    "    plt.show()\n",
    "    \n",
    "    return"
   ]
  },
  {
   "cell_type": "code",
   "execution_count": null,
   "id": "5c13b667",
   "metadata": {},
   "outputs": [],
   "source": [
    "from gammapy.modeling import Fit\n",
    "from gammapy.datasets import Datasets\n",
    "from gammapy.modeling.models import Models\n",
    "\n",
    "def fit_Datasets(datasets, sky_model):\n",
    "    model_name = sky_model.name\n",
    "    datasets = Datasets(datasets)\n",
    "    sky_model = sky_model.copy(name = model_name)\n",
    "        \n",
    "    datasets.models = sky_model\n",
    "    # print(datasets)\n",
    "    fitter = Fit()\n",
    "    result_fit = fitter.run(datasets=datasets)\n",
    "    print(result_fit.parameters.to_table())\n",
    "    print(result_fit.total_stat)\n",
    "    \n",
    "#     models = Models(sky_model.copy(name= model_name)) \n",
    "#     file_path = utl.get_path_models(region_of_interest)\n",
    "#     # To save only the models\n",
    "#     models.write(f\"{file_path}/{model_name}.yaml\", model_name)\n",
    "    \n",
    "    utl.write_datasets_models(datasets, region_of_interest, model_name)\n",
    "    return sky_model\n"
   ]
  },
  {
   "cell_type": "code",
   "execution_count": null,
   "id": "843f400d",
   "metadata": {},
   "outputs": [],
   "source": []
  },
  {
   "cell_type": "code",
   "execution_count": null,
   "id": "8803deaa",
   "metadata": {},
   "outputs": [],
   "source": [
    "from gammapy.catalog import CATALOG_REGISTRY \n",
    "catalog_gammacat = CATALOG_REGISTRY.get_cls(\"gamma-cat\")()\n",
    "catalog_hgps = CATALOG_REGISTRY.get_cls(\"hgps\")()"
   ]
  },
  {
   "cell_type": "code",
   "execution_count": null,
   "id": "a08041c2",
   "metadata": {},
   "outputs": [],
   "source": [
    "def get_datasets_HESSJ1837(counterparts, datasets_counterparts, models_counterparts):\n",
    "    \n",
    "    source_name = \"HESS J1837-069\"\n",
    "    for cat_tag in [\"gamma-cat\", \"hgps\"]:\n",
    "        catalog = CATALOG_REGISTRY.get_cls(cat_tag)()\n",
    "        source = catalog[source_name]\n",
    "        spectral_model = source.sky_model().spectral_model\n",
    "        datasets_names = f'{source_name}: {cat_tag}'\n",
    "        name=f\"{utl.name_to_txt(datasets_names)}_{spectral_model.tag[1]}\"\n",
    "        table = source.flux_points.to_table(sed_type=cfg.sed_type_e2dnde)\n",
    "        sky_model = SkyModel(\n",
    "            spectral_model= spectral_model,   \n",
    "            name=name,\n",
    "            datasets_names = datasets_names\n",
    "        )\n",
    "        dataset = utl.ds_fp_from_table_fp(table = table, sky_model = sky_model, source_name=datasets_names)\n",
    "        counterparts.append(source) \n",
    "        datasets_counterparts.append(dataset)\n",
    "        models_counterparts.append(sky_model)\n",
    "        "
   ]
  },
  {
   "cell_type": "code",
   "execution_count": null,
   "id": "4176fff5",
   "metadata": {},
   "outputs": [],
   "source": []
  },
  {
   "cell_type": "code",
   "execution_count": null,
   "id": "e859ca83",
   "metadata": {},
   "outputs": [],
   "source": [
    "    \n",
    "spectral_model_tag = spectral_model.tag[1]\n",
    "datasets_names = f'{source_name}: {cat_tag}'\n",
    "name=f\"{utl.name_to_txt(datasets_names)}_{spectral_model_tag}\"\n",
    "table = source.flux_points.to_table(sed_type=cfg.sed_type_e2dnde)\n",
    "sky_model = SkyModel(\n",
    "    spectral_model= spectral_model,   \n",
    "    name=name,\n",
    "    datasets_names = datasets_names\n",
    "    )\n"
   ]
  },
  {
   "cell_type": "code",
   "execution_count": null,
   "id": "d8dd5b00",
   "metadata": {},
   "outputs": [],
   "source": []
  },
  {
   "cell_type": "code",
   "execution_count": null,
   "id": "d9230ce9",
   "metadata": {},
   "outputs": [],
   "source": [
    "source_gammacat = catalog_gammacat[\"HESS J1837-069\"]\n",
    "source_hgps = catalog_hgps[\"HESS J1837-069\"]"
   ]
  },
  {
   "cell_type": "code",
   "execution_count": null,
   "id": "07177e40",
   "metadata": {},
   "outputs": [],
   "source": [
    "spectral_model = source.sky_model().spectral_model"
   ]
  },
  {
   "cell_type": "code",
   "execution_count": null,
   "id": "7888a7db",
   "metadata": {},
   "outputs": [],
   "source": [
    "   if region_of_interest[\"name\"] == 'LHAASO J1839-0545':\n",
    "        source_catalogs = load_catalogs_from_gammapy()\n",
    "        source_name = \"HESS J1837-069\"\n",
    "        counterparts.append(source_catalogs[0][source_name])\n",
    "        datasets_counterparts.append(dataset_HESSJ1837_gammacat)\n",
    "        n_counterparts+=1\n",
    "        counterparts.append(source_catalogs[1][source_name])\n",
    "        datasets_counterparts.append(dataset_HESSJ1837_hgps)"
   ]
  },
  {
   "cell_type": "code",
   "execution_count": null,
   "id": "e1e1ac14",
   "metadata": {},
   "outputs": [],
   "source": [
    "test_string = \"HESS J1837-069: ggga\"\n",
    "spl_word = ':'\n",
    "match = re.search(spl_word, test_string)\n",
    "if match:\n",
    "    print(f'{test_string[:match.end()-1]} (2018)')\n",
    "    print(f'{test_string[:match.end()-1]}')"
   ]
  },
  {
   "cell_type": "code",
   "execution_count": null,
   "id": "a441e06c",
   "metadata": {},
   "outputs": [],
   "source": []
  },
  {
   "cell_type": "code",
   "execution_count": null,
   "id": "23953997",
   "metadata": {},
   "outputs": [],
   "source": [
    "\n",
    "    #This code is contributed by Edula Vinay Kumar Reddy"
   ]
  },
  {
   "cell_type": "code",
   "execution_count": null,
   "id": "bfaee90a",
   "metadata": {},
   "outputs": [],
   "source": [
    "\n",
    " \n",
    "# Get String after first occurrence of substring\n",
    "res = f'{test_string[:match.end()-1]} (2018)'\n",
    "res\n",
    "\n",
    "    "
   ]
  },
  {
   "cell_type": "code",
   "execution_count": null,
   "id": "4da22958",
   "metadata": {},
   "outputs": [],
   "source": []
  },
  {
   "cell_type": "code",
   "execution_count": null,
   "id": "f2e9e148",
   "metadata": {},
   "outputs": [],
   "source": []
  },
  {
   "cell_type": "code",
   "execution_count": null,
   "id": "7a7a4be2",
   "metadata": {},
   "outputs": [],
   "source": []
  },
  {
   "cell_type": "code",
   "execution_count": null,
   "id": "45d80490",
   "metadata": {},
   "outputs": [],
   "source": [
    "filename = \"set_analysis.dat\""
   ]
  },
  {
   "cell_type": "code",
   "execution_count": null,
   "id": "17f2804c",
   "metadata": {},
   "outputs": [],
   "source": [
    "# // In your script file\n",
    "def getVarFromFile(filename):\n",
    "    import imp\n",
    "    f = open(filename)\n",
    "    global data\n",
    "    data = imp.load_source('data', filename, f)\n",
    "    f.close()\n"
   ]
  },
  {
   "cell_type": "code",
   "execution_count": null,
   "id": "cb4c6729",
   "metadata": {},
   "outputs": [],
   "source": [
    "source_index = 2\n",
    "source_name = list(dict_LHAASO.keys())[source_index]\n",
    "source_RA = list(dict_LHAASO.values())[source_index][\"position\"].ra\n",
    "source_dec = list(dict_LHAASO.values())[source_index][\"position\"].dec"
   ]
  },
  {
   "cell_type": "code",
   "execution_count": null,
   "id": "74ac12f3",
   "metadata": {},
   "outputs": [],
   "source": [
    "list(dict_LHAASO.values())[source_index][\"position\"].dec"
   ]
  },
  {
   "cell_type": "code",
   "execution_count": null,
   "id": "623e39a0",
   "metadata": {},
   "outputs": [],
   "source": [
    "type(list(dict_LHAASO.values())[source_index][\"position\"].ra)"
   ]
  },
  {
   "cell_type": "code",
   "execution_count": null,
   "id": "06d91c90",
   "metadata": {
    "scrolled": true
   },
   "outputs": [],
   "source": [
    "getVarFromFile(f\"{cwd}/{filename}\")"
   ]
  },
  {
   "cell_type": "code",
   "execution_count": null,
   "id": "a0377bbd",
   "metadata": {},
   "outputs": [],
   "source": [
    "# cwd = os.getcwd()  # Get the current working directory (cwd)\n",
    "# files = os.listdir(cwd)  # Get all the files in that directory\n",
    "# print(\"Files in %r: %s\" % (cwd, files))"
   ]
  },
  {
   "cell_type": "code",
   "execution_count": null,
   "id": "1931706a",
   "metadata": {},
   "outputs": [],
   "source": [
    "source_name = data.source_name\n",
    "pos_ra = data.pos_ra*u.Unit(cfg.unit_deg)\n",
    "pos_dec = data.pos_dec*u.Unit(cfg.unit_deg)"
   ]
  },
  {
   "cell_type": "code",
   "execution_count": null,
   "id": "6f070a32",
   "metadata": {},
   "outputs": [],
   "source": [
    "utl.set_source_info(source_name, pos_ra, pos_dec)"
   ]
  },
  {
   "cell_type": "code",
   "execution_count": null,
   "id": "8c80727a",
   "metadata": {},
   "outputs": [],
   "source": [
    "type((data.pos_ra)*u.Unit(cfg.unit_deg))"
   ]
  },
  {
   "cell_type": "code",
   "execution_count": null,
   "id": "0720f466",
   "metadata": {},
   "outputs": [],
   "source": []
  },
  {
   "cell_type": "code",
   "execution_count": null,
   "id": "0014f37c",
   "metadata": {},
   "outputs": [],
   "source": []
  },
  {
   "cell_type": "code",
   "execution_count": null,
   "id": "27bdb4ad",
   "metadata": {},
   "outputs": [],
   "source": []
  },
  {
   "cell_type": "code",
   "execution_count": null,
   "id": "490a44f3",
   "metadata": {},
   "outputs": [],
   "source": []
  },
  {
   "cell_type": "code",
   "execution_count": null,
   "id": "0ce9f681",
   "metadata": {},
   "outputs": [],
   "source": []
  },
  {
   "cell_type": "code",
   "execution_count": null,
   "id": "0f7dc7a0",
   "metadata": {},
   "outputs": [],
   "source": []
  },
  {
   "cell_type": "code",
   "execution_count": null,
   "id": "f1fb3cbb",
   "metadata": {},
   "outputs": [],
   "source": [
    "path_CTA_models = f\"/home/born-again/Documents/GitHub/CTA_projects_copy/my_notebooks/pulsars/analysis/models\"\n",
    "path_CTA_tables = \"/home/born-again//Documents/GitHub/CTA_projects_copy/my_notebooks/pulsars/analysis/tables\""
   ]
  },
  {
   "cell_type": "markdown",
   "id": "a2e4c39c",
   "metadata": {},
   "source": [
    "### Data Selection"
   ]
  },
  {
   "cell_type": "code",
   "execution_count": null,
   "id": "e13a3b67",
   "metadata": {},
   "outputs": [],
   "source": [
    "# In this simulation, we use the CTA-1DC irfs shipped with gammapy\n",
    "base_name = '/home/born-again/Documents/GitHub/gammapy/gammapy-notebooks/0.20.1/tutorials/data/caldb/data/cta/prod3b-v2/bcf'\n",
    "\n",
    "irf_z = [20,40,60]\n",
    "irf_h = [0.5, 5, 50]\n",
    "irf_loc = [(\"cta_north\", \"North\"),(\"cta_south\", \"South\")]"
   ]
  },
  {
   "cell_type": "code",
   "execution_count": null,
   "id": "00878ccf",
   "metadata": {},
   "outputs": [],
   "source": [
    "dict_pulsars = cta.get_dict_pulsars()\n",
    "dict_pulsars"
   ]
  },
  {
   "cell_type": "code",
   "execution_count": null,
   "id": "e36509b7",
   "metadata": {},
   "outputs": [],
   "source": [
    "irf_zenith = 0\n",
    "irf_hours = 1 \n",
    "irf_site = 1 \n",
    "\n",
    "irf_name = f'{irf_loc[irf_site][irf_site]}_z{irf_z[irf_zenith]}_{irf_h[irf_hours]}h'\n",
    "irf_name"
   ]
  },
  {
   "cell_type": "markdown",
   "id": "7386a070",
   "metadata": {},
   "source": [
    "<a id='intro'></a>\n",
    "🔝 [Back to Top](#indice)<br>\n",
    "## 1. Introduction \n",
    "A Python code to search for possible γ-ray counterparts to the target source and to perform the spectral model fitting. This code selects the sources (in the Gammapy source catalogs) within the region of interest (centered in the position of the target source) and finds the best fit for the given spectrum model. "
   ]
  },
  {
   "cell_type": "code",
   "execution_count": null,
   "id": "6674d021",
   "metadata": {},
   "outputs": [],
   "source": []
  },
  {
   "cell_type": "markdown",
   "id": "a403b1d9",
   "metadata": {},
   "source": [
    "### LHAASO/HAWC Datasets"
   ]
  },
  {
   "cell_type": "code",
   "execution_count": null,
   "id": "13014d27",
   "metadata": {},
   "outputs": [],
   "source": []
  },
  {
   "cell_type": "code",
   "execution_count": null,
   "id": "9c10fa54",
   "metadata": {},
   "outputs": [],
   "source": [
    "\n"
   ]
  },
  {
   "cell_type": "markdown",
   "id": "c43c00b7",
   "metadata": {},
   "source": [
    "### HAWC Datasets"
   ]
  },
  {
   "cell_type": "code",
   "execution_count": null,
   "id": "46f8a247",
   "metadata": {},
   "outputs": [],
   "source": []
  },
  {
   "cell_type": "code",
   "execution_count": null,
   "id": "e215107e",
   "metadata": {},
   "outputs": [],
   "source": [
    "models_HAWC = models_roi.select(name_substring=\"WC\")\n",
    "print(models_HAWC)"
   ]
  },
  {
   "cell_type": "code",
   "execution_count": null,
   "id": "1cc19091",
   "metadata": {},
   "outputs": [],
   "source": [
    "# dict_sources_gammapy = {}\n",
    "# for index, (source, dataset) in enumerate(zip(sources_gammapy, datasets_gammapy)):\n",
    "#     print(source.name, dataset.name)\n",
    "#     dict_sources_gammapy[dataset.name] = {'position': source.position}"
   ]
  },
  {
   "cell_type": "code",
   "execution_count": null,
   "id": "afb1ec6d",
   "metadata": {},
   "outputs": [],
   "source": []
  },
  {
   "cell_type": "markdown",
   "id": "a0fdc31d",
   "metadata": {},
   "source": [
    "## Counterparts Analysis"
   ]
  },
  {
   "cell_type": "code",
   "execution_count": 14,
   "id": "e4f42ccc",
   "metadata": {},
   "outputs": [],
   "source": [
    "dict_LHAASO = lhaaso.get_dict()"
   ]
  },
  {
   "cell_type": "code",
   "execution_count": 15,
   "id": "24f2ed68",
   "metadata": {},
   "outputs": [],
   "source": [
    "source_index = 1\n",
    "source_name = list(dict_LHAASO.keys())[source_index]\n",
    "source_RA = list(dict_LHAASO.values())[source_index][\"position\"].ra\n",
    "source_dec = list(dict_LHAASO.values())[source_index][\"position\"].dec"
   ]
  },
  {
   "cell_type": "code",
   "execution_count": 16,
   "id": "10d3e6c1",
   "metadata": {},
   "outputs": [
    {
     "data": {
      "text/plain": [
       "{'name': 'LHAASO J1825-1326',\n",
       " 'position': <SkyCoord (ICRS): (ra, dec) in deg\n",
       "     (276.45, -13.45)>}"
      ]
     },
     "execution_count": 16,
     "metadata": {},
     "output_type": "execute_result"
    }
   ],
   "source": [
    "source_info = utl.set_source_info(source_name, source_RA, source_dec)\n",
    "source_info"
   ]
  },
  {
   "cell_type": "code",
   "execution_count": 17,
   "id": "a5f025b8",
   "metadata": {},
   "outputs": [],
   "source": [
    "radius_roi = 1 * u.Unit(\"deg\")  # maximum angle of separation (in degrees)\n",
    "e_ref_min = 100 * u.Unit(\"GeV\")\n",
    "# e_ref_max = 10 * u.Unit(\"TeV\")"
   ]
  },
  {
   "cell_type": "code",
   "execution_count": 18,
   "id": "7e6fc956",
   "metadata": {
    "scrolled": false
   },
   "outputs": [
    {
     "data": {
      "text/plain": [
       "{'name': 'LHAASO J1825-1326',\n",
       " 'position': <SkyCoord (ICRS): (ra, dec) in deg\n",
       "     (276.45, -13.45)>,\n",
       " 'radius_roi': <Quantity 1. deg>,\n",
       " 'e_ref_min': <Quantity 100. GeV>,\n",
       " 'e_ref_max': None,\n",
       " 'roi_name': 'LHAASO_J1825-1326_roi_1dot0deg_e_ref_min_100dot0GeV'}"
      ]
     },
     "execution_count": 18,
     "metadata": {},
     "output_type": "execute_result"
    }
   ],
   "source": [
    "# REVER: chamar (com source_name, source_RA, source_dec) source_info dentro\n",
    "# REVER: region_of_interest[name] -> region_of_interest[source_name]\n",
    "region_of_interest = utl.create_region_of_interest(source_info, radius_roi, e_ref_min)\n",
    "region_of_interest"
   ]
  },
  {
   "cell_type": "code",
   "execution_count": null,
   "id": "9fac4da6",
   "metadata": {
    "scrolled": true
   },
   "outputs": [],
   "source": [
    "# df = utl.create_data_frame_counterparts(region_of_interest)\n",
    "# display(df)\n",
    "# print(df.to_latex()) # Render object to a LaTeX tabular, longtable, or nested table."
   ]
  },
  {
   "cell_type": "code",
   "execution_count": null,
   "id": "e5a32ed7",
   "metadata": {},
   "outputs": [],
   "source": [
    "# print(df[[\"Source name\",\"RA(deg)\",\"dec.(deg)\",\"Sep.(deg)\",\"Flux points\"]].to_latex(index=False)) # Render object to a LaTeX tabular, longtable, or nested table.\n",
    "# print(df.to_latex(index=False)) # Render object to a LaTeX tabular, longtable, or nested table."
   ]
  },
  {
   "cell_type": "code",
   "execution_count": 19,
   "id": "fceabed0",
   "metadata": {
    "scrolled": false
   },
   "outputs": [
    {
     "name": "stderr",
     "output_type": "stream",
     "text": [
      "No reference model set for FluxMaps. Assuming point source with E^-2 spectrum.\n",
      "No reference model set for FluxMaps. Assuming point source with E^-2 spectrum.\n",
      "No reference model set for FluxMaps. Assuming point source with E^-2 spectrum.\n",
      "No reference model set for FluxMaps. Assuming point source with E^-2 spectrum.\n"
     ]
    },
    {
     "name": "stdout",
     "output_type": "stream",
     "text": [
      "The error is: (2HWC J1825-134) 'SourceCatalogObject2HWC' object has no attribute 'flux_points'\n",
      "The error is: (3FGL J1823.2-1339) index -1 is out of bounds for axis 0 with size 0\n",
      "The error is: (3FGL J1824.5-1351e) index -1 is out of bounds for axis 0 with size 0\n",
      "The error is: (3FGL J1826.1-1256) index -1 is out of bounds for axis 0 with size 0\n"
     ]
    },
    {
     "name": "stderr",
     "output_type": "stream",
     "text": [
      "No reference model set for FluxMaps. Assuming point source with E^-2 spectrum.\n",
      "No reference model set for FluxMaps. Assuming point source with E^-2 spectrum.\n",
      "No reference model set for FluxMaps. Assuming point source with E^-2 spectrum.\n",
      "No reference model set for FluxMaps. Assuming point source with E^-2 spectrum.\n",
      "No reference model set for FluxMaps. Assuming point source with E^-2 spectrum.\n",
      "No reference model set for FluxMaps. Assuming point source with E^-2 spectrum.\n",
      "No reference model set for FluxMaps. Assuming point source with E^-2 spectrum.\n",
      "No reference model set for FluxMaps. Assuming point source with E^-2 spectrum.\n",
      "No reference model set for FluxMaps. Assuming point source with E^-2 spectrum.\n"
     ]
    },
    {
     "name": "stdout",
     "output_type": "stream",
     "text": [
      "The error is: (3HWC J1825-134) 'SourceCatalogObject3HWC' object has no attribute 'flux_points'\n",
      "Total number of counterparts: 18\n",
      "Total number of flux points tables: 13\n"
     ]
    }
   ],
   "source": [
    "sources_gammapy, datasets_gammapy, models_gammapy = gammapy_cat.get_datasets_flux_points_gammapy(region_of_interest)"
   ]
  },
  {
   "cell_type": "code",
   "execution_count": null,
   "id": "7307b817",
   "metadata": {},
   "outputs": [],
   "source": [
    "print(sources_gammapy[1].info())"
   ]
  },
  {
   "cell_type": "code",
   "execution_count": null,
   "id": "2df58d7b",
   "metadata": {},
   "outputs": [],
   "source": [
    "print(sources_gammapy[2].info())"
   ]
  },
  {
   "cell_type": "code",
   "execution_count": 20,
   "id": "4c7f0d5f",
   "metadata": {
    "scrolled": false
   },
   "outputs": [
    {
     "data": {
      "text/html": [
       "<div><i>Table length=1</i>\n",
       "<table id=\"table140105596624848\" class=\"table-striped table-bordered table-condensed\">\n",
       "<thead><tr><th>e_ref</th><th>e2dnde</th><th>e2dnde_errp</th><th>e2dnde_errn</th><th>e2dnde_ul</th><th>is_ul</th></tr></thead>\n",
       "<thead><tr><th>TeV</th><th>TeV / (cm2 s)</th><th>TeV / (cm2 s)</th><th>TeV / (cm2 s)</th><th>TeV / (cm2 s)</th><th></th></tr></thead>\n",
       "<thead><tr><th>int64</th><th>float64</th><th>float64</th><th>float64</th><th>float64</th><th>bool</th></tr></thead>\n",
       "<tr><td>7</td><td>6.76e-12</td><td>3.97e-13</td><td>3.97e-13</td><td>6.76e-12</td><td>False</td></tr>\n",
       "</table></div>"
      ],
      "text/plain": [
       "<Table length=1>\n",
       "e_ref     e2dnde     e2dnde_errp   e2dnde_errn    e2dnde_ul   is_ul\n",
       " TeV  TeV / (cm2 s) TeV / (cm2 s) TeV / (cm2 s) TeV / (cm2 s)      \n",
       "int64    float64       float64       float64       float64     bool\n",
       "----- ------------- ------------- ------------- ------------- -----\n",
       "    7      6.76e-12      3.97e-13      3.97e-13      6.76e-12 False"
      ]
     },
     "metadata": {},
     "output_type": "display_data"
    },
    {
     "name": "stderr",
     "output_type": "stream",
     "text": [
      "No reference model set for FluxMaps. Assuming point source with E^-2 spectrum.\n"
     ]
    },
    {
     "data": {
      "text/html": [
       "<div><i>Table length=10</i>\n",
       "<table id=\"table140105592855952\" class=\"table-striped table-bordered table-condensed\">\n",
       "<thead><tr><th>e_ref</th><th>e2dnde</th><th>e2dnde_errp</th><th>e2dnde_errn</th><th>e2dnde_ul</th><th>is_ul</th></tr></thead>\n",
       "<thead><tr><th>TeV</th><th>TeV / (cm2 s)</th><th>TeV / (cm2 s)</th><th>TeV / (cm2 s)</th><th>TeV / (cm2 s)</th><th></th></tr></thead>\n",
       "<thead><tr><th>float64</th><th>float64</th><th>float64</th><th>float64</th><th>float64</th><th>bool</th></tr></thead>\n",
       "<tr><td>1.41</td><td>1.5945e-11</td><td>4.901e-12</td><td>5.3017e-12</td><td>1.5945e-11</td><td>False</td></tr>\n",
       "<tr><td>2.03</td><td>1.1689e-11</td><td>1.676e-12</td><td>1.7058e-12</td><td>1.1689e-11</td><td>False</td></tr>\n",
       "<tr><td>2.98</td><td>1.482e-11</td><td>1.7193e-12</td><td>1.6873e-12</td><td>1.482e-11</td><td>False</td></tr>\n",
       "<tr><td>5.17</td><td>1.436e-11</td><td>1.4456e-12</td><td>1.4006e-12</td><td>1.436e-11</td><td>False</td></tr>\n",
       "<tr><td>9.2</td><td>9.1278e-12</td><td>1.1029e-12</td><td>1.0766e-12</td><td>9.1278e-12</td><td>False</td></tr>\n",
       "<tr><td>14.91</td><td>9.0496e-12</td><td>9.256e-13</td><td>9.1824e-13</td><td>9.0496e-12</td><td>False</td></tr>\n",
       "<tr><td>27.4</td><td>4.7312e-12</td><td>7.6108e-13</td><td>7.6535e-13</td><td>4.7312e-12</td><td>False</td></tr>\n",
       "<tr><td>49.41</td><td>2.5151e-12</td><td>7.6429e-13</td><td>7.2337e-13</td><td>2.5151e-12</td><td>False</td></tr>\n",
       "<tr><td>80.1</td><td>1.3896e-12</td><td>nan</td><td>nan</td><td>1.3896e-12</td><td>True</td></tr>\n",
       "<tr><td>126.24</td><td>3.086e-12</td><td>nan</td><td>nan</td><td>3.086e-12</td><td>True</td></tr>\n",
       "</table></div>"
      ],
      "text/plain": [
       "<Table length=10>\n",
       " e_ref      e2dnde     e2dnde_errp   e2dnde_errn    e2dnde_ul   is_ul\n",
       "  TeV   TeV / (cm2 s) TeV / (cm2 s) TeV / (cm2 s) TeV / (cm2 s)      \n",
       "float64    float64       float64       float64       float64     bool\n",
       "------- ------------- ------------- ------------- ------------- -----\n",
       "   1.41    1.5945e-11     4.901e-12    5.3017e-12    1.5945e-11 False\n",
       "   2.03    1.1689e-11     1.676e-12    1.7058e-12    1.1689e-11 False\n",
       "   2.98     1.482e-11    1.7193e-12    1.6873e-12     1.482e-11 False\n",
       "   5.17     1.436e-11    1.4456e-12    1.4006e-12     1.436e-11 False\n",
       "    9.2    9.1278e-12    1.1029e-12    1.0766e-12    9.1278e-12 False\n",
       "  14.91    9.0496e-12     9.256e-13    9.1824e-13    9.0496e-12 False\n",
       "   27.4    4.7312e-12    7.6108e-13    7.6535e-13    4.7312e-12 False\n",
       "  49.41    2.5151e-12    7.6429e-13    7.2337e-13    2.5151e-12 False\n",
       "   80.1    1.3896e-12           nan           nan    1.3896e-12  True\n",
       " 126.24     3.086e-12           nan           nan     3.086e-12  True"
      ]
     },
     "metadata": {},
     "output_type": "display_data"
    },
    {
     "name": "stderr",
     "output_type": "stream",
     "text": [
      "No reference model set for FluxMaps. Assuming point source with E^-2 spectrum.\n"
     ]
    },
    {
     "data": {
      "text/html": [
       "<div><i>Table length=10</i>\n",
       "<table id=\"table140105592596128\" class=\"table-striped table-bordered table-condensed\">\n",
       "<thead><tr><th>e_ref</th><th>e2dnde</th><th>e2dnde_errp</th><th>e2dnde_errn</th><th>e2dnde_ul</th><th>is_ul</th></tr></thead>\n",
       "<thead><tr><th>TeV</th><th>TeV / (cm2 s)</th><th>TeV / (cm2 s)</th><th>TeV / (cm2 s)</th><th>TeV / (cm2 s)</th><th></th></tr></thead>\n",
       "<thead><tr><th>float64</th><th>float64</th><th>float64</th><th>float64</th><th>float64</th><th>bool</th></tr></thead>\n",
       "<tr><td>2.12</td><td>2.4764e-12</td><td>nan</td><td>nan</td><td>2.4764e-12</td><td>True</td></tr>\n",
       "<tr><td>3.0</td><td>2.116e-12</td><td>nan</td><td>nan</td><td>2.116e-12</td><td>True</td></tr>\n",
       "<tr><td>4.5</td><td>3.8213e-12</td><td>9.1434e-13</td><td>9.2421e-13</td><td>3.8213e-12</td><td>False</td></tr>\n",
       "<tr><td>7.56</td><td>2.6822e-12</td><td>6.5181e-13</td><td>6.9049e-13</td><td>2.6822e-12</td><td>False</td></tr>\n",
       "<tr><td>11.61</td><td>3.9922e-12</td><td>6.0312e-13</td><td>5.8706e-13</td><td>3.9922e-12</td><td>False</td></tr>\n",
       "<tr><td>18.04</td><td>4.1859e-12</td><td>5.0349e-13</td><td>5.028e-13</td><td>4.1859e-12</td><td>False</td></tr>\n",
       "<tr><td>31.14</td><td>3.6496e-12</td><td>4.916e-13</td><td>4.9188e-13</td><td>3.6496e-12</td><td>False</td></tr>\n",
       "<tr><td>53.85</td><td>1.8255e-12</td><td>4.8746e-13</td><td>4.5419e-13</td><td>1.8255e-12</td><td>False</td></tr>\n",
       "<tr><td>83.79</td><td>1.0283e-12</td><td>5.3722e-13</td><td>5.4461e-13</td><td>1.0283e-12</td><td>False</td></tr>\n",
       "<tr><td>127.81</td><td>2.7295e-12</td><td>nan</td><td>nan</td><td>2.7295e-12</td><td>True</td></tr>\n",
       "</table></div>"
      ],
      "text/plain": [
       "<Table length=10>\n",
       " e_ref      e2dnde     e2dnde_errp   e2dnde_errn    e2dnde_ul   is_ul\n",
       "  TeV   TeV / (cm2 s) TeV / (cm2 s) TeV / (cm2 s) TeV / (cm2 s)      \n",
       "float64    float64       float64       float64       float64     bool\n",
       "------- ------------- ------------- ------------- ------------- -----\n",
       "   2.12    2.4764e-12           nan           nan    2.4764e-12  True\n",
       "    3.0     2.116e-12           nan           nan     2.116e-12  True\n",
       "    4.5    3.8213e-12    9.1434e-13    9.2421e-13    3.8213e-12 False\n",
       "   7.56    2.6822e-12    6.5181e-13    6.9049e-13    2.6822e-12 False\n",
       "  11.61    3.9922e-12    6.0312e-13    5.8706e-13    3.9922e-12 False\n",
       "  18.04    4.1859e-12    5.0349e-13     5.028e-13    4.1859e-12 False\n",
       "  31.14    3.6496e-12     4.916e-13    4.9188e-13    3.6496e-12 False\n",
       "  53.85    1.8255e-12    4.8746e-13    4.5419e-13    1.8255e-12 False\n",
       "  83.79    1.0283e-12    5.3722e-13    5.4461e-13    1.0283e-12 False\n",
       " 127.81    2.7295e-12           nan           nan    2.7295e-12  True"
      ]
     },
     "metadata": {},
     "output_type": "display_data"
    },
    {
     "name": "stderr",
     "output_type": "stream",
     "text": [
      "No reference model set for FluxMaps. Assuming point source with E^-2 spectrum.\n"
     ]
    },
    {
     "data": {
      "text/html": [
       "<div><i>Table length=10</i>\n",
       "<table id=\"table140105593763968\" class=\"table-striped table-bordered table-condensed\">\n",
       "<thead><tr><th>e_ref</th><th>e2dnde</th><th>e2dnde_errp</th><th>e2dnde_errn</th><th>e2dnde_ul</th><th>is_ul</th></tr></thead>\n",
       "<thead><tr><th>TeV</th><th>TeV / (cm2 s)</th><th>TeV / (cm2 s)</th><th>TeV / (cm2 s)</th><th>TeV / (cm2 s)</th><th></th></tr></thead>\n",
       "<thead><tr><th>float64</th><th>float64</th><th>float64</th><th>float64</th><th>float64</th><th>bool</th></tr></thead>\n",
       "<tr><td>1.22</td><td>8.9715e-12</td><td>nan</td><td>nan</td><td>8.9715e-12</td><td>True</td></tr>\n",
       "<tr><td>1.81</td><td>2.7033e-12</td><td>8.7828e-13</td><td>8.5899e-13</td><td>2.7033e-12</td><td>False</td></tr>\n",
       "<tr><td>2.7</td><td>2.371e-12</td><td>8.9476e-13</td><td>8.8875e-13</td><td>2.371e-12</td><td>False</td></tr>\n",
       "<tr><td>4.95</td><td>1.7245e-12</td><td>6.0025e-13</td><td>5.9842e-13</td><td>1.7245e-12</td><td>False</td></tr>\n",
       "<tr><td>9.55</td><td>1.2613e-12</td><td>4.3646e-13</td><td>4.2879e-13</td><td>1.2613e-12</td><td>False</td></tr>\n",
       "<tr><td>16.48</td><td>1.7479e-12</td><td>3.9136e-13</td><td>3.9124e-13</td><td>1.7479e-12</td><td>False</td></tr>\n",
       "<tr><td>33.0</td><td>1.0986e-12</td><td>3.547e-13</td><td>3.5527e-13</td><td>1.0986e-12</td><td>False</td></tr>\n",
       "<tr><td>66.79</td><td>9.9245e-13</td><td>3.2582e-13</td><td>3.3499e-13</td><td>9.9245e-13</td><td>False</td></tr>\n",
       "<tr><td>120.51</td><td>4.9417e-13</td><td>2.8164e-13</td><td>2.7845e-13</td><td>4.9417e-13</td><td>False</td></tr>\n",
       "<tr><td>224.06</td><td>1.0871e-12</td><td>4.2099e-13</td><td>4.2925e-13</td><td>1.0871e-12</td><td>False</td></tr>\n",
       "</table></div>"
      ],
      "text/plain": [
       "<Table length=10>\n",
       " e_ref      e2dnde     e2dnde_errp   e2dnde_errn    e2dnde_ul   is_ul\n",
       "  TeV   TeV / (cm2 s) TeV / (cm2 s) TeV / (cm2 s) TeV / (cm2 s)      \n",
       "float64    float64       float64       float64       float64     bool\n",
       "------- ------------- ------------- ------------- ------------- -----\n",
       "   1.22    8.9715e-12           nan           nan    8.9715e-12  True\n",
       "   1.81    2.7033e-12    8.7828e-13    8.5899e-13    2.7033e-12 False\n",
       "    2.7     2.371e-12    8.9476e-13    8.8875e-13     2.371e-12 False\n",
       "   4.95    1.7245e-12    6.0025e-13    5.9842e-13    1.7245e-12 False\n",
       "   9.55    1.2613e-12    4.3646e-13    4.2879e-13    1.2613e-12 False\n",
       "  16.48    1.7479e-12    3.9136e-13    3.9124e-13    1.7479e-12 False\n",
       "   33.0    1.0986e-12     3.547e-13    3.5527e-13    1.0986e-12 False\n",
       "  66.79    9.9245e-13    3.2582e-13    3.3499e-13    9.9245e-13 False\n",
       " 120.51    4.9417e-13    2.8164e-13    2.7845e-13    4.9417e-13 False\n",
       " 224.06    1.0871e-12    4.2099e-13    4.2925e-13    1.0871e-12 False"
      ]
     },
     "metadata": {},
     "output_type": "display_data"
    },
    {
     "name": "stderr",
     "output_type": "stream",
     "text": [
      "No reference model set for FluxMaps. Assuming point source with E^-2 spectrum.\n"
     ]
    },
    {
     "data": {
      "text/html": [
       "<div><i>Table length=10</i>\n",
       "<table id=\"table140105593840064\" class=\"table-striped table-bordered table-condensed\">\n",
       "<thead><tr><th>e_ref</th><th>e_min</th><th>e_max</th><th>e2dnde</th><th>e2dnde_errp</th><th>e2dnde_errn</th><th>e2dnde_ul</th><th>is_ul</th></tr></thead>\n",
       "<thead><tr><th>TeV</th><th>TeV</th><th>TeV</th><th>TeV / (cm2 s)</th><th>TeV / (cm2 s)</th><th>TeV / (cm2 s)</th><th>TeV / (cm2 s)</th><th></th></tr></thead>\n",
       "<thead><tr><th>float64</th><th>float64</th><th>float64</th><th>float64</th><th>float64</th><th>float64</th><th>float64</th><th>bool</th></tr></thead>\n",
       "<tr><td>1.34</td><td>1.0</td><td>1.78</td><td>2.41e-11</td><td>5.6e-12</td><td>5.6e-12</td><td>2.41e-11</td><td>False</td></tr>\n",
       "<tr><td>1.96</td><td>1.78</td><td>3.16</td><td>2.22e-11</td><td>2e-12</td><td>2e-12</td><td>2.22e-11</td><td>False</td></tr>\n",
       "<tr><td>2.91</td><td>3.16</td><td>5.62</td><td>2.58e-11</td><td>2.1e-12</td><td>2.1e-12</td><td>2.58e-11</td><td>False</td></tr>\n",
       "<tr><td>5.2</td><td>5.62</td><td>10.0</td><td>2.24e-11</td><td>1.7e-12</td><td>1.7e-12</td><td>2.24e-11</td><td>False</td></tr>\n",
       "<tr><td>9.54</td><td>10.0</td><td>117.8</td><td>1.77e-11</td><td>1.3e-12</td><td>1.3e-12</td><td>1.77e-11</td><td>False</td></tr>\n",
       "<tr><td>15.95</td><td>17.8</td><td>31.6</td><td>1.63e-11</td><td>1.1e-12</td><td>1.1e-12</td><td>1.63e-11</td><td>False</td></tr>\n",
       "<tr><td>30.44</td><td>31.6</td><td>56.2</td><td>1.08e-11</td><td>9e-13</td><td>9e-13</td><td>1.08e-11</td><td>False</td></tr>\n",
       "<tr><td>58.18</td><td>56.2</td><td>100.0</td><td>6.22e-12</td><td>7.6e-13</td><td>7.6e-13</td><td>6.22e-12</td><td>False</td></tr>\n",
       "<tr><td>98.17</td><td>100.0</td><td>177.0</td><td>2.59e-12</td><td>6.8e-13</td><td>6.8e-13</td><td>2.59e-12</td><td>False</td></tr>\n",
       "<tr><td>153.5</td><td>177.0</td><td>316.0</td><td>3.45e-12</td><td>1.25e-12</td><td>1.25e-12</td><td>3.45e-12</td><td>False</td></tr>\n",
       "</table></div>"
      ],
      "text/plain": [
       "<Table length=10>\n",
       " e_ref   e_min   e_max      e2dnde    ...  e2dnde_errn    e2dnde_ul   is_ul\n",
       "  TeV     TeV     TeV   TeV / (cm2 s) ... TeV / (cm2 s) TeV / (cm2 s)      \n",
       "float64 float64 float64    float64    ...    float64       float64     bool\n",
       "------- ------- ------- ------------- ... ------------- ------------- -----\n",
       "   1.34     1.0    1.78      2.41e-11 ...       5.6e-12      2.41e-11 False\n",
       "   1.96    1.78    3.16      2.22e-11 ...         2e-12      2.22e-11 False\n",
       "   2.91    3.16    5.62      2.58e-11 ...       2.1e-12      2.58e-11 False\n",
       "    5.2    5.62    10.0      2.24e-11 ...       1.7e-12      2.24e-11 False\n",
       "   9.54    10.0   117.8      1.77e-11 ...       1.3e-12      1.77e-11 False\n",
       "  15.95    17.8    31.6      1.63e-11 ...       1.1e-12      1.63e-11 False\n",
       "  30.44    31.6    56.2      1.08e-11 ...         9e-13      1.08e-11 False\n",
       "  58.18    56.2   100.0      6.22e-12 ...       7.6e-13      6.22e-12 False\n",
       "  98.17   100.0   177.0      2.59e-12 ...       6.8e-13      2.59e-12 False\n",
       "  153.5   177.0   316.0      3.45e-12 ...      1.25e-12      3.45e-12 False"
      ]
     },
     "metadata": {},
     "output_type": "display_data"
    },
    {
     "name": "stderr",
     "output_type": "stream",
     "text": [
      "No reference model set for FluxMaps. Assuming point source with E^-2 spectrum.\n"
     ]
    },
    {
     "data": {
      "text/html": [
       "<div><i>Table length=7</i>\n",
       "<table id=\"table140105593560224\" class=\"table-striped table-bordered table-condensed\">\n",
       "<thead><tr><th>e_ref</th><th>e2dnde</th><th>e2dnde_errp</th><th>e2dnde_errn</th></tr></thead>\n",
       "<thead><tr><th>TeV</th><th>TeV / (cm2 s)</th><th>TeV / (cm2 s)</th><th>TeV / (cm2 s)</th></tr></thead>\n",
       "<thead><tr><th>float64</th><th>float64</th><th>float64</th><th>float64</th></tr></thead>\n",
       "<tr><td>31.6</td><td>1.0385871099902711e-11</td><td>3.285530439211237e-12</td><td>3.285530439211237e-12</td></tr>\n",
       "<tr><td>50.1</td><td>4.334103963720645e-12</td><td>9.227447015682794e-13</td><td>9.227447015682794e-13</td></tr>\n",
       "<tr><td>79.4</td><td>3.4453130715174324e-12</td><td>4.0844436007422143e-13</td><td>4.0844436007422143e-13</td></tr>\n",
       "<tr><td>126.0</td><td>2.3767667179697495e-12</td><td>3.5052315586322557e-13</td><td>3.5052315586322557e-13</td></tr>\n",
       "<tr><td>200.0</td><td>5.991848773897424e-13</td><td>2.436685205084573e-13</td><td>2.0572013909422676e-13</td></tr>\n",
       "<tr><td>316.0</td><td>2.3168482308549263e-13</td><td>1.8674595150786604e-13</td><td>1.4879757633514463e-13</td></tr>\n",
       "<tr><td>501.0</td><td>1.2083561568156038e-13</td><td>2.216984085663554e-13</td><td>7.749457666850484e-14</td></tr>\n",
       "</table></div>"
      ],
      "text/plain": [
       "<Table length=7>\n",
       " e_ref          e2dnde              e2dnde_errp            e2dnde_errn      \n",
       "  TeV       TeV / (cm2 s)          TeV / (cm2 s)          TeV / (cm2 s)     \n",
       "float64        float64                float64                float64        \n",
       "------- ---------------------- ---------------------- ----------------------\n",
       "   31.6 1.0385871099902711e-11  3.285530439211237e-12  3.285530439211237e-12\n",
       "   50.1  4.334103963720645e-12  9.227447015682794e-13  9.227447015682794e-13\n",
       "   79.4 3.4453130715174324e-12 4.0844436007422143e-13 4.0844436007422143e-13\n",
       "  126.0 2.3767667179697495e-12 3.5052315586322557e-13 3.5052315586322557e-13\n",
       "  200.0  5.991848773897424e-13  2.436685205084573e-13 2.0572013909422676e-13\n",
       "  316.0 2.3168482308549263e-13 1.8674595150786604e-13 1.4879757633514463e-13\n",
       "  501.0 1.2083561568156038e-13  2.216984085663554e-13  7.749457666850484e-14"
      ]
     },
     "metadata": {},
     "output_type": "display_data"
    },
    {
     "name": "stderr",
     "output_type": "stream",
     "text": [
      "No reference model set for FluxMaps. Assuming point source with E^-2 spectrum.\n"
     ]
    },
    {
     "name": "stdout",
     "output_type": "stream",
     "text": [
      "Total number of counterparts: 6\n",
      "Total number of flux points tables: 6\n"
     ]
    }
   ],
   "source": [
    "sources_names, datasets_outside_gammapy, models_outside_gammapy = gammapy_cat.get_datasets_flux_points_outside_gammapy(region_of_interest)"
   ]
  },
  {
   "cell_type": "code",
   "execution_count": 21,
   "id": "63f2206b",
   "metadata": {},
   "outputs": [
    {
     "name": "stdout",
     "output_type": "stream",
     "text": [
      "0 HESS J1826-130: gamma-cat\n",
      "1 HESS J1825-137: gamma-cat\n",
      "2 HESS J1825-137: hgps\n",
      "3 HESS J1826-130: hgps\n",
      "4 4FGL J1823.3-1340\n",
      "5 4FGL J1824.1-1304\n",
      "6 4FGL J1824.4-1350e\n",
      "7 4FGL J1826.1-1256\n",
      "8 4FGL J1828.1-1312\n",
      "9 2FHL J1824.5-1350e\n",
      "10 3FHL J1823.3-1339\n",
      "11 3FHL J1824.5-1351e\n",
      "12 3FHL J1826.1-1256\n",
      "13 2HWC J1825-134\n",
      "14 HAWC J1825-138\n",
      "15 HAWC J1826-128\n",
      "16 HAWC J1825-134\n",
      "17 eHWC J1825-134\n",
      "18 LHAASO J1825-1326\n"
     ]
    }
   ],
   "source": [
    "datasets_roi, models_roi = utl.joint_datasets(datasets_gammapy, models_gammapy, datasets_outside_gammapy, models_outside_gammapy)"
   ]
  },
  {
   "cell_type": "code",
   "execution_count": 26,
   "id": "070dd88b",
   "metadata": {},
   "outputs": [],
   "source": [
    "dict_roi, dataframe = utl.get_dict_data_frame_roi(sources_gammapy, datasets_gammapy, datasets_roi, region_of_interest)"
   ]
  },
  {
   "cell_type": "code",
   "execution_count": 27,
   "id": "a560fd60",
   "metadata": {},
   "outputs": [
    {
     "name": "stdout",
     "output_type": "stream",
     "text": [
      "\\begin{tabular}{llll}\n",
      "\\toprule\n",
      "              Source name & RA(deg) & dec.(deg) & Sep.(deg) \\\\\n",
      "\\midrule\n",
      "HESS J1826-130: gamma-cat &  276.50 &    -13.09 &      0.36 \\\\\n",
      "HESS J1825-137: gamma-cat &  276.55 &    -13.58 &      0.16 \\\\\n",
      "     HESS J1825-137: hgps &  276.26 &    -13.97 &      0.55 \\\\\n",
      "     HESS J1826-130: hgps &  276.51 &    -13.02 &      0.44 \\\\\n",
      "        4FGL J1823.3-1340 &  275.84 &    -13.67 &      0.64 \\\\\n",
      "        4FGL J1824.1-1304 &  276.03 &    -13.07 &      0.56 \\\\\n",
      "       4FGL J1824.4-1350e &  276.11 &    -13.84 &      0.51 \\\\\n",
      "        4FGL J1826.1-1256 &  276.54 &    -12.94 &      0.52 \\\\\n",
      "        4FGL J1828.1-1312 &  277.03 &    -13.20 &      0.61 \\\\\n",
      "       2FHL J1824.5-1350e &  276.13 &    -13.85 &      0.51 \\\\\n",
      "        3FHL J1823.3-1339 &  275.84 &    -13.66 &      0.63 \\\\\n",
      "       3FHL J1824.5-1351e &  276.13 &    -13.85 &      0.51 \\\\\n",
      "        3FHL J1826.1-1256 &  276.54 &    -12.94 &      0.52 \\\\\n",
      "           2HWC J1825-134 &  276.46 &    -13.40 &      0.05 \\\\\n",
      "           HAWC J1825-138 &  276.38 &    -13.86 &      0.42 \\\\\n",
      "           HAWC J1826-128 &  276.50 &    -12.86 &      0.59 \\\\\n",
      "           HAWC J1825-134 &  276.44 &    -13.42 &      0.03 \\\\\n",
      "           eHWC J1825-134 &  276.40 &    -13.37 &      0.09 \\\\\n",
      "           PSR J1826-1334 &  276.55 &    -13.58 &      0.16 \\\\\n",
      "           PSR J1826-1256 &  276.54 &    -12.94 &      0.51 \\\\\n",
      "\\bottomrule\n",
      "\\end{tabular}\n",
      "\n"
     ]
    },
    {
     "name": "stderr",
     "output_type": "stream",
     "text": [
      "/tmp/ipykernel_117796/421379942.py:1: FutureWarning: In future versions `DataFrame.to_latex` is expected to utilise the base implementation of `Styler.to_latex` for formatting and rendering. The arguments signature may therefore change. It is recommended instead to use `DataFrame.style.to_latex` which also contains additional functionality.\n",
      "  print(dataframe.to_latex(index=False)) # Render object to a LaTeX tabular, longtable, or nested table.\n"
     ]
    }
   ],
   "source": [
    "print(dataframe.to_latex(index=False)) # Render object to a LaTeX tabular, longtable, or nested table."
   ]
  },
  {
   "cell_type": "code",
   "execution_count": null,
   "id": "b6d24283",
   "metadata": {},
   "outputs": [],
   "source": [
    "datasets_HAWC = Datasets([datasets_roi[14],datasets_roi[15],datasets_roi[16],datasets_roi[17]])"
   ]
  },
  {
   "cell_type": "code",
   "execution_count": null,
   "id": "336240e0",
   "metadata": {},
   "outputs": [],
   "source": [
    "datasets_TeV = Datasets([datasets_roi[0],datasets_roi[1],datasets_roi[2],datasets_roi[3],datasets_roi[13],datasets_roi[18]])"
   ]
  },
  {
   "cell_type": "code",
   "execution_count": null,
   "id": "982c2148",
   "metadata": {},
   "outputs": [],
   "source": [
    "datasets_name = \"region_of_interest\" \n",
    "utl.write_datasets_models(datasets_roi,region_of_interest, datasets_name)"
   ]
  },
  {
   "cell_type": "code",
   "execution_count": null,
   "id": "feef3372",
   "metadata": {},
   "outputs": [],
   "source": [
    "datasets_read = utl.read_datasets_models(region_of_interest, datasets_name)"
   ]
  },
  {
   "cell_type": "code",
   "execution_count": null,
   "id": "265ffaa6",
   "metadata": {},
   "outputs": [],
   "source": [
    "datasets_roi = datasets_gammapy"
   ]
  },
  {
   "cell_type": "code",
   "execution_count": null,
   "id": "78894ec7",
   "metadata": {},
   "outputs": [],
   "source": [
    "dict_leg_style"
   ]
  },
  {
   "cell_type": "code",
   "execution_count": null,
   "id": "95e96a86",
   "metadata": {},
   "outputs": [],
   "source": [
    "dict_leg_style = set_leg_style({}, datasets = datasets_roi, color = None, marker = None)"
   ]
  },
  {
   "cell_type": "code",
   "execution_count": null,
   "id": "8f4a2c9e",
   "metadata": {},
   "outputs": [],
   "source": [
    "sed_type = cfg.sed_type_e2dnde\n",
    "dict_plot_axis = dict(\n",
    "    label =  (r'$\\rm{E\\ [TeV] }$', r'$\\rm{E^2\\ J(E)\\ [TeV\\ cm^{-2}\\ s^{-1}] }$'),\n",
    "    units =  (          'TeV',                       'TeV  cm-2     s-1')\n",
    ")\n",
    "dict_leg_place = dict(\n",
    "    bbox_to_anchor = (0, -0.45), # Set legend outside plot\n",
    "    ncol=3, \n",
    "    loc='lower left', \n",
    ")\n",
    "dict_plot_limits = dict(\n",
    "    energy_bounds = [1e-5, 3e3] * u.TeV,\n",
    "    ylim = [1e-16, 1e-7]\n",
    ")"
   ]
  },
  {
   "cell_type": "code",
   "execution_count": null,
   "id": "316b3e2a",
   "metadata": {},
   "outputs": [],
   "source": [
    "datasets_name = \"test\"\n",
    "datasets = Datasets(datasets_roi)\n",
    "dict_plot_limits = dict(\n",
    "    energy_bounds = [1e-1, 2e3] * u.TeV,\n",
    "    ylim = [1e-15, 1e-8]\n",
    ")\n",
    "\n",
    "plot_SED(name = datasets_name, dict_plot_limits=dict_plot_limits,datasets=datasets, dict_leg_style=dict_leg_style, region_of_interest=region_of_interest)"
   ]
  },
  {
   "cell_type": "code",
   "execution_count": null,
   "id": "ca626b1f",
   "metadata": {
    "scrolled": true
   },
   "outputs": [],
   "source": [
    "datasets = Datasets(datasets_read)\n",
    "dict_plot_limits = dict(\n",
    "    energy_bounds = [1e-1, 2e3] * u.TeV,\n",
    "    ylim = [1e-15, 1e-8]\n",
    ")\n",
    "\n",
    "plot_SED(dict_plot_limits=dict_plot_limits,datasets=datasets, dict_leg_style=dict_leg_style, region_of_interest=region_of_interest, name = datasets_name)"
   ]
  },
  {
   "cell_type": "code",
   "execution_count": 28,
   "id": "3a868c6b",
   "metadata": {},
   "outputs": [
    {
     "ename": "NameError",
     "evalue": "name 'dict_leg_style' is not defined",
     "output_type": "error",
     "traceback": [
      "\u001b[0;31m---------------------------------------------------------------------------\u001b[0m",
      "\u001b[0;31mNameError\u001b[0m                                 Traceback (most recent call last)",
      "Input \u001b[0;32mIn [28]\u001b[0m, in \u001b[0;36m<cell line: 1>\u001b[0;34m()\u001b[0m\n\u001b[1;32m      1\u001b[0m plot\u001b[38;5;241m.\u001b[39mSED_from_catalogs(\n\u001b[1;32m      2\u001b[0m     sources_gammapy, \n\u001b[1;32m      3\u001b[0m     datasets_gammapy, \n\u001b[1;32m      4\u001b[0m     models_gammapy,\n\u001b[0;32m----> 5\u001b[0m     \u001b[43mdict_leg_style\u001b[49m,\n\u001b[1;32m      6\u001b[0m     region_of_interest,\n\u001b[1;32m      7\u001b[0m     sed_type \u001b[38;5;241m=\u001b[39m sed_type, \n\u001b[1;32m      8\u001b[0m     dict_plot_axis\u001b[38;5;241m=\u001b[39mdict_plot_axis,\n\u001b[1;32m      9\u001b[0m     energy_bounds \u001b[38;5;241m=\u001b[39m [\u001b[38;5;241m1e-5\u001b[39m, \u001b[38;5;241m1e2\u001b[39m] \u001b[38;5;241m*\u001b[39m u\u001b[38;5;241m.\u001b[39mTeV, \n\u001b[1;32m     10\u001b[0m     ylim \u001b[38;5;241m=\u001b[39m [\u001b[38;5;241m1e-13\u001b[39m, \u001b[38;5;241m1e-9\u001b[39m]\n\u001b[1;32m     11\u001b[0m )\n",
      "\u001b[0;31mNameError\u001b[0m: name 'dict_leg_style' is not defined"
     ]
    }
   ],
   "source": [
    "# plot.SED_from_catalogs(\n",
    "#     sources_gammapy, \n",
    "#     datasets_gammapy, \n",
    "#     models_gammapy,\n",
    "#     dict_leg_style,\n",
    "#     region_of_interest,\n",
    "#     sed_type = sed_type, \n",
    "#     dict_plot_axis=dict_plot_axis,\n",
    "#     energy_bounds = [1e-5, 1e2] * u.TeV, \n",
    "#     ylim = [1e-13, 1e-9]\n",
    "# )"
   ]
  },
  {
   "cell_type": "markdown",
   "id": "318e1d3f",
   "metadata": {},
   "source": [
    "### HESS J1825-137\n",
    "[tevcat](http://tevcat.uchicago.edu/?mode=1&showsrc=115)"
   ]
  },
  {
   "cell_type": "code",
   "execution_count": null,
   "id": "6c053d91",
   "metadata": {},
   "outputs": [],
   "source": [
    "# models = models_counterparts.select(datasets_names=cta_dataset.name, name_substring=\"1748\")\n",
    "models_HESS = models_roi.select(name_substring=\"HESS\")\n",
    "print(models_HESS)"
   ]
  },
  {
   "cell_type": "code",
   "execution_count": null,
   "id": "03683502",
   "metadata": {},
   "outputs": [],
   "source": [
    "print(datasets_HESSJ1825)"
   ]
  },
  {
   "cell_type": "code",
   "execution_count": null,
   "id": "d479042c",
   "metadata": {},
   "outputs": [],
   "source": [
    "datasets_name = 'HESS J1825-137'\n",
    "datasets_HESSJ1825 = Datasets([datasets_roi[1],datasets_roi[2],datasets_roi[6],datasets_roi[9],datasets_roi[11],datasets_roi[13],datasets_roi[16],datasets_roi[17],datasets_roi[18]])"
   ]
  },
  {
   "cell_type": "code",
   "execution_count": null,
   "id": "69148038",
   "metadata": {},
   "outputs": [],
   "source": [
    "datasets_HESSJ1825 = Datasets([datasets_roi[1],datasets_roi[2],datasets_roi[6],datasets_roi[9],datasets_roi[11], datasets_roi[14],datasets_roi[17],datasets_roi[18]])"
   ]
  },
  {
   "cell_type": "code",
   "execution_count": null,
   "id": "cf4a987d",
   "metadata": {},
   "outputs": [],
   "source": [
    "dict_roi, dataframe = utl.get_dict_data_frame_roi(sources_gammapy, datasets_gammapy, datasets_HESSJ1825, region_of_interest)"
   ]
  },
  {
   "cell_type": "code",
   "execution_count": null,
   "id": "1c1ac1a6",
   "metadata": {},
   "outputs": [],
   "source": [
    "print(dataframe.to_latex(index=False)) # Render object to a LaTeX tabular, longtable, or nested table."
   ]
  },
  {
   "cell_type": "code",
   "execution_count": null,
   "id": "56af8a40",
   "metadata": {},
   "outputs": [],
   "source": [
    "model_name = f\"{utl.name_to_txt(datasets_name)}_ecpl\"\n",
    "sky_model_HESSJ1825 = spec.sky_model_ecpl().copy(name=model_name)"
   ]
  },
  {
   "cell_type": "code",
   "execution_count": null,
   "id": "4bd3bc49",
   "metadata": {},
   "outputs": [],
   "source": [
    "datasets = datasets_HESSJ1825.copy()\n",
    "sky_model = sky_model_HESSJ1825.copy(name=model_name)"
   ]
  },
  {
   "cell_type": "code",
   "execution_count": null,
   "id": "22c16250",
   "metadata": {},
   "outputs": [],
   "source": [
    "models = models_HESS.select(name_substring=\"J1825-137\")\n",
    "models_in = models.copy()"
   ]
  },
  {
   "cell_type": "code",
   "execution_count": null,
   "id": "2af74cf9",
   "metadata": {},
   "outputs": [],
   "source": [
    "datasets = Datasets(datasets)\n",
    "models = [sky_model]\n",
    "dict_leg_style = set_leg_style(dict_leg_style, models = models)\n",
    "dict_plot_limits = dict(\n",
    "    energy_bounds = [5e-2, 2e3] * u.TeV,\n",
    "    ylim = [1e-15, 1e-9]\n",
    ")\n",
    "plot_SED(name = model_name, dict_plot_limits=dict_plot_limits,datasets=datasets, models=models, dict_leg_style=dict_leg_style, region_of_interest=region_of_interest)"
   ]
  },
  {
   "cell_type": "markdown",
   "id": "04f7010b",
   "metadata": {},
   "source": [
    "### Naima test"
   ]
  },
  {
   "cell_type": "code",
   "execution_count": null,
   "id": "1eefca9f",
   "metadata": {},
   "outputs": [],
   "source": [
    "path_file = utl.get_path_tables()"
   ]
  },
  {
   "cell_type": "code",
   "execution_count": null,
   "id": "41dc61f9",
   "metadata": {},
   "outputs": [],
   "source": [
    "for index, dataset in enumerate(datasets):\n",
    "    table = dataset.data.to_table(sed_type=\"e2dnde\")\n",
    "    display(table)\n",
    "    utl.write_tables_csv(table, path_file, f\"naima_{index}\")"
   ]
  },
  {
   "cell_type": "code",
   "execution_count": null,
   "id": "eef15ca2",
   "metadata": {},
   "outputs": [],
   "source": []
  },
  {
   "cell_type": "markdown",
   "id": "3a0a56b6",
   "metadata": {},
   "source": [
    "#### gamma-cat"
   ]
  },
  {
   "cell_type": "code",
   "execution_count": null,
   "id": "b337e3b4",
   "metadata": {},
   "outputs": [],
   "source": [
    "model_index = 0\n",
    "name = f\"{utl.name_to_txt(models[model_index].datasets_names)}_{sky_model_in.spectral_model.tag[1]}\"\n",
    "name"
   ]
  },
  {
   "cell_type": "code",
   "execution_count": null,
   "id": "7d4dd68b",
   "metadata": {},
   "outputs": [],
   "source": [
    "sky_model_name = f\"{datasets_name}_{sky_model.spectral_model.tag[1]}\"\n",
    "sky_model_in = spec.sky_model_ecpl().copy(name=sky_model_name)\n",
    "sky_model = sky_model_in.copy(name=sky_model_name)\n",
    "print(sky_model)"
   ]
  },
  {
   "cell_type": "code",
   "execution_count": null,
   "id": "1af5f849",
   "metadata": {},
   "outputs": [],
   "source": []
  },
  {
   "cell_type": "code",
   "execution_count": null,
   "id": "8d8bb4cd",
   "metadata": {},
   "outputs": [],
   "source": [
    "print(datasets)"
   ]
  },
  {
   "cell_type": "code",
   "execution_count": null,
   "id": "23c11b19",
   "metadata": {
    "scrolled": true
   },
   "outputs": [],
   "source": [
    "sky_model = fit_Datasets(datasets,sky_model)"
   ]
  },
  {
   "cell_type": "code",
   "execution_count": null,
   "id": "49bc524a",
   "metadata": {},
   "outputs": [],
   "source": [
    "print(sky_model)"
   ]
  },
  {
   "cell_type": "code",
   "execution_count": null,
   "id": "ed35430f",
   "metadata": {},
   "outputs": [],
   "source": [
    "sky_model = spec.sky_model_ecpl()\n",
    "sky_model_test = sky_model.copy(name = \"region_of_interest\")"
   ]
  },
  {
   "cell_type": "code",
   "execution_count": null,
   "id": "19506bbc",
   "metadata": {},
   "outputs": [],
   "source": [
    "datasets.models = sky_model_test\n",
    "fitter = Fit()\n",
    "result_fit = fitter.run(datasets=datasets)\n",
    "print(result_fit.parameters.to_table())\n",
    "print(result_fit.total_stat)"
   ]
  },
  {
   "cell_type": "code",
   "execution_count": null,
   "id": "7ae2867b",
   "metadata": {},
   "outputs": [],
   "source": [
    "datasets.models = sky_model_in\n",
    "fitter = Fit()\n",
    "result_fit = fitter.run(datasets=datasets)\n",
    "print(result_fit.parameters.to_table())\n",
    "print(result_fit.total_stat)"
   ]
  },
  {
   "cell_type": "code",
   "execution_count": null,
   "id": "11a06be0",
   "metadata": {},
   "outputs": [],
   "source": [
    "#REVER name, datasets_names spec.sky_model_ecpl,...\n",
    "datasets_names = models[model_index].datasets_names\n",
    "sky_model_in = spec.sky_model_ecpl(datasets_names=datasets_names)\n",
    "sky_model = sky_model_in.copy(name=sky_model_in.name,datasets_names = sky_model_in.datasets_names)\n",
    "# sky_model = fit_Datasets(datasets,sky_model, add_name=\"fit\")\n",
    "sky_model = fit_Datasets(datasets,sky_model)"
   ]
  },
  {
   "cell_type": "code",
   "execution_count": null,
   "id": "c476ba84",
   "metadata": {},
   "outputs": [],
   "source": [
    "# model = models_3fhl[0]\n",
    "# print(model)\n",
    "\n",
    "# # To freeze a single parameter\n",
    "# model.spectral_model.index.frozen = True\n",
    "# print(model)  # index is now frozen\n",
    "\n",
    "# # To unfreeze a parameter\n",
    "# model.spectral_model.index.frozen = False\n",
    "\n",
    "# # To freeze all parameters of a model\n",
    "# model.freeze()\n",
    "# print(model)\n",
    "\n",
    "# # To unfreeze all parameters (except parameters which must remain frozen)\n",
    "# model.unfreeze()\n",
    "# print(model)"
   ]
  },
  {
   "cell_type": "code",
   "execution_count": null,
   "id": "8a90b0f1",
   "metadata": {},
   "outputs": [],
   "source": [
    "for model in (models):\n",
    "    print(model.name)"
   ]
  },
  {
   "cell_type": "code",
   "execution_count": null,
   "id": "01568b70",
   "metadata": {
    "scrolled": true
   },
   "outputs": [],
   "source": []
  },
  {
   "cell_type": "code",
   "execution_count": null,
   "id": "b6d95a11",
   "metadata": {
    "scrolled": true
   },
   "outputs": [],
   "source": [
    "datasets = Datasets(datasets)\n",
    "models=[sky_model]\n",
    "dict_leg_style = set_leg_style(dict_leg_style, models = models)\n",
    "dict_plot_limits = dict(\n",
    "    energy_bounds = [5e-2, 2e3] * u.TeV,\n",
    "    ylim = [1e-15, 1e-9]\n",
    ")\n",
    "plot_SED(dict_plot_limits=dict_plot_limits,datasets=datasets,models=models, dict_leg_style=dict_leg_style, region_of_interest=region_of_interest, name = \"datasets_HESSJ1825\")"
   ]
  },
  {
   "cell_type": "code",
   "execution_count": null,
   "id": "877a18cd",
   "metadata": {},
   "outputs": [],
   "source": [
    "utl.write_datasets_models(datasets,region_of_interest, model_name)"
   ]
  },
  {
   "cell_type": "code",
   "execution_count": null,
   "id": "5691dc42",
   "metadata": {},
   "outputs": [],
   "source": []
  },
  {
   "cell_type": "code",
   "execution_count": null,
   "id": "4773c82e",
   "metadata": {},
   "outputs": [],
   "source": [
    "datasets_read = utl.read_datasets_models(region_of_interest, \"HESS_J1825-137_ecpl\")"
   ]
  },
  {
   "cell_type": "code",
   "execution_count": null,
   "id": "759c4408",
   "metadata": {},
   "outputs": [],
   "source": [
    "print(datasets_read)"
   ]
  },
  {
   "cell_type": "code",
   "execution_count": null,
   "id": "cbf667bf",
   "metadata": {},
   "outputs": [],
   "source": [
    "spectral_model = spec.sky_model_pl(\n",
    "                index=2.58,\n",
    "                amplitude=\"138.0e-15 cm-2 s-1 TeV-1\",\n",
    "                reference=7 * u.TeV\n",
    "            ).spectral_model"
   ]
  },
  {
   "cell_type": "code",
   "execution_count": null,
   "id": "de5fed1b",
   "metadata": {},
   "outputs": [],
   "source": [
    "kd=spectral_model."
   ]
  },
  {
   "cell_type": "code",
   "execution_count": null,
   "id": "8a7b3ef2",
   "metadata": {},
   "outputs": [],
   "source": [
    "(spectral_model.evaluate(\n",
    "        index=index,\n",
    "        amplitude=(amplitude-error)* u.Unit(\"cm-2 s-1 TeV-1\"),\n",
    "        reference=reference,\n",
    "        energy=energy)*energy*energy).to(\"cm-2 s-1 TeV\")"
   ]
  },
  {
   "cell_type": "code",
   "execution_count": null,
   "id": "7268703f",
   "metadata": {},
   "outputs": [],
   "source": [
    "def calc_flux(index, amplitude, reference, energy):\n",
    "    return spectral_model.evaluate(\n",
    "        index=index,\n",
    "        amplitude=amplitude* u.Unit(\"cm-2 s-1 TeV-1\"),\n",
    "        reference=reference,\n",
    "        energy=energy\n",
    "    ).*energy*energy\n",
    "    "
   ]
  },
  {
   "cell_type": "code",
   "execution_count": null,
   "id": "cbce24b7",
   "metadata": {},
   "outputs": [],
   "source": [
    "index=2.58\n",
    "error = 8.1e-15\n",
    "amplitude=138.0e-15\n",
    "reference=7 * u.TeV\n",
    "energy= 7* u.TeV"
   ]
  },
  {
   "cell_type": "code",
   "execution_count": null,
   "id": "569e11c7",
   "metadata": {},
   "outputs": [],
   "source": [
    "e_ref = energy\n",
    "e_min = energy\n",
    "e_max = energy\n",
    "e2dnde = calc_flux(index, amplitude, reference, energy)\n",
    "e2dnde_err = calc_flux(index, error, reference, energy)"
   ]
  },
  {
   "cell_type": "code",
   "execution_count": null,
   "id": "261c4c09",
   "metadata": {},
   "outputs": [],
   "source": [
    "e2dnde_err.to(\"cm-2 s-1 TeV\")"
   ]
  },
  {
   "cell_type": "code",
   "execution_count": null,
   "id": "73a93f3e",
   "metadata": {},
   "outputs": [],
   "source": [
    "print(e_ref.value, e_min.value, e_max.value, e2dnde.value, e2dnde_err.value, e2dnde_err.value)"
   ]
  },
  {
   "cell_type": "code",
   "execution_count": null,
   "id": "38b94fdc",
   "metadata": {},
   "outputs": [],
   "source": [
    "print(e_ref.value, e_min.value, e_max.value, e2dnde.value, e2dnde_errp.value, e2dnde_errn.value)"
   ]
  },
  {
   "cell_type": "code",
   "execution_count": null,
   "id": "0a02bec8",
   "metadata": {},
   "outputs": [],
   "source": [
    "    CU = 6.1e-17 * u.Unit(\"TeV-1 cm-2 s-1\")\n",
    "dict_flux = {\"LHAASO J1908+0621\": {\n",
    "        \"position\": SkyCoord(287.05, 6.35, unit=cfg.unit_deg),\n",
    "        \"flux\": (1.36,0.18)* CU}\n",
    "             \n",
    "            }"
   ]
  },
  {
   "cell_type": "code",
   "execution_count": null,
   "id": "2fa0e991",
   "metadata": {},
   "outputs": [],
   "source": [
    "def "
   ]
  },
  {
   "cell_type": "code",
   "execution_count": null,
   "id": "6a8d0f9d",
   "metadata": {},
   "outputs": [],
   "source": [
    "datasets = Datasets(datasets_read)\n",
    "# models=[sky_model_CTA, sky_model]\n",
    "models=[datasets_read.models[0]]\n",
    "dict_leg_style = set_leg_style(dict_leg_style, models = models)\n",
    "dict_plot_limits = dict(\n",
    "    energy_bounds = [5e-2, 2e3] * u.TeV,\n",
    "    ylim = [1e-15, 1e-9]\n",
    ")\n",
    "plot_SED(dict_plot_limits=dict_plot_limits,datasets=datasets,models=models, dict_leg_style=dict_leg_style, region_of_interest=region_of_interest, name = model_name)"
   ]
  },
  {
   "cell_type": "code",
   "execution_count": null,
   "id": "67a498cb",
   "metadata": {},
   "outputs": [],
   "source": []
  },
  {
   "cell_type": "code",
   "execution_count": null,
   "id": "407c0688",
   "metadata": {},
   "outputs": [],
   "source": [
    "pulsar_index = 0\n",
    "pulsar_name = \"PSR J1826-1334\""
   ]
  },
  {
   "cell_type": "code",
   "execution_count": null,
   "id": "7bc6e7cc",
   "metadata": {},
   "outputs": [],
   "source": [
    "dict_pulsars = cta.get_dict_pulsars()"
   ]
  },
  {
   "cell_type": "code",
   "execution_count": null,
   "id": "e1664bd7",
   "metadata": {},
   "outputs": [],
   "source": [
    "sky_model.name"
   ]
  },
  {
   "cell_type": "code",
   "execution_count": null,
   "id": "5fbd82e3",
   "metadata": {},
   "outputs": [],
   "source": [
    "dataset_CTA, sky_model_CTA_in = get_dataset_CTA(pulsar_index, irf_name, sky_model.name)"
   ]
  },
  {
   "cell_type": "code",
   "execution_count": null,
   "id": "4993a77a",
   "metadata": {},
   "outputs": [],
   "source": [
    "datasets.append(dataset_CTA)"
   ]
  },
  {
   "cell_type": "code",
   "execution_count": null,
   "id": "af824a17",
   "metadata": {},
   "outputs": [],
   "source": [
    "print(sky_model_CTA_in.copy(name= dataset_CTA.name, datasets_names=datasets.names))"
   ]
  },
  {
   "cell_type": "code",
   "execution_count": null,
   "id": "52df692c",
   "metadata": {},
   "outputs": [],
   "source": [
    "sky_model_CTA_in.name"
   ]
  },
  {
   "cell_type": "code",
   "execution_count": null,
   "id": "8bef387c",
   "metadata": {
    "scrolled": true
   },
   "outputs": [],
   "source": [
    "# dataset_CTA, sky_model_CTA_in = get_dataset_CTA(pulsar_index, irf_name, sky_model.name)\n",
    "sky_model_CTA = sky_model_CTA_in.copy(name= sky_model_CTA_in.name, datasets_names=datasets.names)\n",
    "dict_leg_style = set_leg_style(dict_leg_style, dataset_CTA, color=\"blue\", marker=\"o\")\n",
    "# datasets.append(dataset_CTA)"
   ]
  },
  {
   "cell_type": "code",
   "execution_count": null,
   "id": "3a3be6b7",
   "metadata": {},
   "outputs": [],
   "source": [
    "sky_model_CTA= fit_Datasets(datasets, sky_model_CTA)\n",
    "sky_model= fit_Datasets(datasets,sky_model)"
   ]
  },
  {
   "cell_type": "code",
   "execution_count": null,
   "id": "1eeecdf2",
   "metadata": {},
   "outputs": [],
   "source": [
    "print(sky_model_CTA)"
   ]
  },
  {
   "cell_type": "code",
   "execution_count": null,
   "id": "867fa969",
   "metadata": {},
   "outputs": [],
   "source": [
    "sky_model_CTA_2 = sky_model_CTA.copy()"
   ]
  },
  {
   "cell_type": "code",
   "execution_count": null,
   "id": "9e119cc7",
   "metadata": {
    "scrolled": true
   },
   "outputs": [],
   "source": [
    "datasets = Datasets(datasets)\n",
    "# models=[sky_model_CTA, sky_model]\n",
    "models=[sky_model_CTA, sky_model_CTA_2]\n",
    "dict_leg_style = set_leg_style(dict_leg_style, models = models)\n",
    "dict_plot_limits = dict(\n",
    "    energy_bounds = [5e-2, 1e3] * u.TeV,\n",
    "    ylim = [1e-15, 1e-9]\n",
    ")\n",
    "plot_SED(dict_plot_limits=dict_plot_limits,datasets=datasets, models = models, dict_leg_style=dict_leg_style, region_of_interest=region_of_interest, name= sky_model.name)"
   ]
  },
  {
   "cell_type": "code",
   "execution_count": null,
   "id": "3b1c7e5c",
   "metadata": {},
   "outputs": [],
   "source": [
    "df_latex = create_df_latex(sky_model_CTA, pulsar_name)"
   ]
  },
  {
   "cell_type": "code",
   "execution_count": null,
   "id": "294bea86",
   "metadata": {},
   "outputs": [],
   "source": [
    "# datasets_HESS_J1825-137_gamma-cat_ecpl_CTA.yaml\n",
    "# models_HESS_J1825-137_gamma-cat_ecpl_CTA.yaml\n",
    "# To save datasets and models\n",
    "datasets.models = [sky_model_CTA]\n",
    "datasets.write(\n",
    "    filename=f\"datasets_{sky_model_CTA.name}.yaml\", filename_models=f\"models_{sky_model_CTA.name}.yaml\", overwrite=True\n",
    ")\n",
    "# # To read only models\n",
    "# models = Models.read(\"3fhl_models.yaml\")\n",
    "# print(models)\n",
    "# To read datasets with models\n",
    "# datasets_read = Datasets.read(f\"datasets_{sky_model_CTA.name}.yaml\", filename_models=f\"models_{sky_model_CTA.name}.yaml\")\n",
    "# print(datasets_read)"
   ]
  },
  {
   "cell_type": "code",
   "execution_count": null,
   "id": "57ec061f",
   "metadata": {},
   "outputs": [],
   "source": [
    "datasets_HESSJ1825_CTA = Datasets.read(f\"datasets_{sky_model_CTA.name}.yaml\", filename_models=f\"models_{sky_model_CTA.name}.yaml\")\n",
    "print(datasets_HESSJ1825_CTA)"
   ]
  },
  {
   "cell_type": "code",
   "execution_count": null,
   "id": "402d76e8",
   "metadata": {},
   "outputs": [],
   "source": [
    "datasets = Datasets(datasets_HESSJ1825_CTA)\n",
    "# models=[sky_model_CTA, sky_model]\n",
    "models=[datasets_HESSJ1825_CTA.models[0]]\n",
    "\n",
    "dict_plot_limits = dict(\n",
    "    energy_bounds = [5e-2, 1e3] * u.TeV,\n",
    "    ylim = [1e-15, 1e-9]\n",
    ")\n",
    "plot_SED(dict_plot_limits=dict_plot_limits,datasets=datasets, models = models, dict_leg_style=dict_leg_style, region_of_interest=region_of_interest, name= sky_model.name)"
   ]
  },
  {
   "cell_type": "code",
   "execution_count": null,
   "id": "646948f1",
   "metadata": {},
   "outputs": [],
   "source": []
  },
  {
   "cell_type": "markdown",
   "id": "52ac18f4",
   "metadata": {},
   "source": [
    "### HESS J1826-130\n",
    "[tevcat](http://tevcat.uchicago.edu/?mode=1;id=271)"
   ]
  },
  {
   "cell_type": "code",
   "execution_count": null,
   "id": "724dc98c",
   "metadata": {},
   "outputs": [],
   "source": [
    "datasets_name = 'HESS J1826-130'\n",
    "datasets_HESSJ1826 = Datasets([datasets_roi[0], datasets_roi[3], datasets_roi[4], datasets_roi[5],datasets_roi[7],datasets_roi[8],datasets_roi[10]\n",
    ",datasets_roi[12],datasets_roi[17]])"
   ]
  },
  {
   "cell_type": "code",
   "execution_count": null,
   "id": "af42ce85",
   "metadata": {},
   "outputs": [],
   "source": [
    "model_name = f\"{utl.name_to_txt(datasets_name)}_ecpl\"\n",
    "sky_model_HESSJ1826 = spec.sky_model_ecpl().copy(name=model_name, datasets_names=datasets.names)"
   ]
  },
  {
   "cell_type": "code",
   "execution_count": null,
   "id": "703d70cd",
   "metadata": {},
   "outputs": [],
   "source": [
    "datasets = datasets_HESSJ1826.copy()\n",
    "sky_model = sky_model_HESSJ1826.copy(name=model_name)"
   ]
  },
  {
   "cell_type": "code",
   "execution_count": null,
   "id": "e4ad7865",
   "metadata": {},
   "outputs": [],
   "source": [
    "print(sky_model)"
   ]
  },
  {
   "cell_type": "code",
   "execution_count": null,
   "id": "064cb0af",
   "metadata": {},
   "outputs": [],
   "source": []
  },
  {
   "cell_type": "code",
   "execution_count": null,
   "id": "f6156889",
   "metadata": {},
   "outputs": [],
   "source": []
  },
  {
   "cell_type": "code",
   "execution_count": null,
   "id": "19e4c6b9",
   "metadata": {},
   "outputs": [],
   "source": [
    "models = models_HESS.select(name_substring=\"J1826-130\")\n",
    "models_in = models.copy()"
   ]
  },
  {
   "cell_type": "code",
   "execution_count": null,
   "id": "9efd91af",
   "metadata": {
    "scrolled": true
   },
   "outputs": [],
   "source": [
    "datasets = Datasets(datasets)\n",
    "dict_plot_limits = dict(\n",
    "    energy_bounds = [5e-2, 2e3] * u.TeV,\n",
    "    ylim = [1e-15, 1e-9]\n",
    ")\n",
    "plot_SED(dict_plot_limits=dict_plot_limits,datasets=datasets, dict_leg_style=dict_leg_style, region_of_interest=region_of_interest, name=datasets_name)"
   ]
  },
  {
   "cell_type": "code",
   "execution_count": null,
   "id": "c90a92e9",
   "metadata": {},
   "outputs": [],
   "source": [
    "sky_model = fit_Datasets(datasets,sky_model)"
   ]
  },
  {
   "cell_type": "code",
   "execution_count": null,
   "id": "359de2f8",
   "metadata": {},
   "outputs": [],
   "source": []
  },
  {
   "cell_type": "code",
   "execution_count": null,
   "id": "c07f0f56",
   "metadata": {},
   "outputs": [],
   "source": []
  },
  {
   "cell_type": "code",
   "execution_count": null,
   "id": "60e533f4",
   "metadata": {},
   "outputs": [],
   "source": [
    "print(sky_model.parameters.to_table())"
   ]
  },
  {
   "cell_type": "code",
   "execution_count": null,
   "id": "eb9d59fd",
   "metadata": {},
   "outputs": [],
   "source": []
  },
  {
   "cell_type": "code",
   "execution_count": null,
   "id": "d1905c1d",
   "metadata": {},
   "outputs": [],
   "source": []
  },
  {
   "cell_type": "code",
   "execution_count": null,
   "id": "9664f93a",
   "metadata": {},
   "outputs": [],
   "source": [
    "model_index = 0"
   ]
  },
  {
   "cell_type": "code",
   "execution_count": null,
   "id": "1c86b04c",
   "metadata": {},
   "outputs": [],
   "source": [
    "#REVER name, datasets_names spec.sky_model_ecpl,...\n",
    "datasets_names = models[model_index].datasets_names\n",
    "sky_model_in = spec.sky_model_ecpl(datasets_names=datasets_names)\n",
    "sky_model = sky_model_in.copy(name=sky_model_in.name,datasets_names = sky_model_in.datasets_names)\n",
    "sky_model = fit_Datasets(datasets,sky_model)"
   ]
  },
  {
   "cell_type": "code",
   "execution_count": null,
   "id": "6ed36684",
   "metadata": {
    "scrolled": true
   },
   "outputs": [],
   "source": [
    "datasets = Datasets(datasets)\n",
    "models=[sky_model]\n",
    "dict_leg_style = set_leg_style(dict_leg_style, models = models)\n",
    "\n",
    "dict_plot_limits = dict(\n",
    "    energy_bounds = [5e-2, 2e3] * u.TeV,\n",
    "    ylim = [1e-15, 1e-9]\n",
    ")\n",
    "plot_SED(dict_plot_limits=dict_plot_limits,datasets=datasets,models=models, dict_leg_style=dict_leg_style, region_of_interest=region_of_interest, name = model_name)"
   ]
  },
  {
   "cell_type": "code",
   "execution_count": null,
   "id": "af8d4d85",
   "metadata": {},
   "outputs": [],
   "source": []
  },
  {
   "cell_type": "code",
   "execution_count": null,
   "id": "4d0194ba",
   "metadata": {},
   "outputs": [],
   "source": [
    "datasets_read = utl.read_datasets_models(region_of_interest, model_name)"
   ]
  },
  {
   "cell_type": "code",
   "execution_count": null,
   "id": "8e588037",
   "metadata": {},
   "outputs": [],
   "source": [
    "datasets = Datasets(datasets_read)\n",
    "# models=[sky_model_CTA, sky_model]\n",
    "models=[datasets_read.models[0]]\n",
    "dict_leg_style = set_leg_style(dict_leg_style, models = models)\n",
    "dict_plot_limits = dict(\n",
    "    energy_bounds = [5e-2, 2e3] * u.TeV,\n",
    "    ylim = [1e-15, 1e-9]\n",
    ")\n",
    "plot_SED(dict_plot_limits=dict_plot_limits,datasets=datasets,models=models, dict_leg_style=dict_leg_style, region_of_interest=region_of_interest, name = model_name)"
   ]
  },
  {
   "cell_type": "code",
   "execution_count": null,
   "id": "ee080a40",
   "metadata": {},
   "outputs": [],
   "source": [
    "dict_pulsars"
   ]
  },
  {
   "cell_type": "code",
   "execution_count": null,
   "id": "ba3af473",
   "metadata": {},
   "outputs": [],
   "source": [
    "pulsar_index = 1\n",
    "pulsar_name = \"PSR J1826-1256\""
   ]
  },
  {
   "cell_type": "code",
   "execution_count": null,
   "id": "6695b183",
   "metadata": {},
   "outputs": [],
   "source": [
    "dataset_CTA, sky_model_CTA_in = get_dataset_CTA(pulsar_index, irf_name, sky_model.name)\n",
    "datasets.append(dataset_CTA)"
   ]
  },
  {
   "cell_type": "code",
   "execution_count": null,
   "id": "a6e66639",
   "metadata": {},
   "outputs": [],
   "source": [
    "print(sky_model_CTA_in)"
   ]
  },
  {
   "cell_type": "code",
   "execution_count": null,
   "id": "a7b16930",
   "metadata": {},
   "outputs": [],
   "source": [
    "sky_model_CTA = sky_model_CTA_in.copy(name=sky_model_CTA_in.name, datasets_names = datasets.names)\n",
    "dict_leg_style = set_leg_style(dict_leg_style, dataset_CTA, color=\"blue\", marker=\"o\")"
   ]
  },
  {
   "cell_type": "code",
   "execution_count": null,
   "id": "0fd0c6b8",
   "metadata": {},
   "outputs": [],
   "source": [
    "sky_model_CTA= fit_Datasets(datasets, sky_model_CTA)\n",
    "sky_model= fit_Datasets(datasets,sky_model)"
   ]
  },
  {
   "cell_type": "code",
   "execution_count": null,
   "id": "cfd99606",
   "metadata": {},
   "outputs": [],
   "source": [
    "df_tex = create_df_latex(sky_model_CTA, pulsar_name)"
   ]
  },
  {
   "cell_type": "code",
   "execution_count": null,
   "id": "d8d4a221",
   "metadata": {},
   "outputs": [],
   "source": [
    "print(df_tex)"
   ]
  },
  {
   "cell_type": "code",
   "execution_count": null,
   "id": "0de21094",
   "metadata": {},
   "outputs": [],
   "source": [
    "df.to_latex(index=False) # Render object to a LaTeX tabular, longtable, or nested table."
   ]
  },
  {
   "cell_type": "code",
   "execution_count": null,
   "id": "2088271d",
   "metadata": {
    "scrolled": true
   },
   "outputs": [],
   "source": [
    "# df = utl.create_data_frame_counterparts(region_of_interest)\n",
    "# display(df)\n",
    "# print(df.to_latex()) # Render object to a LaTeX tabular, longtable, or nested table."
   ]
  },
  {
   "cell_type": "code",
   "execution_count": null,
   "id": "a264c90f",
   "metadata": {},
   "outputs": [],
   "source": [
    "# print(df[[\"Source name\",\"RA(deg)\",\"dec.(deg)\",\"Sep.(deg)\",\"Flux points\"]].to_latex(index=False)) # Render object to a LaTeX tabular, longtable, or nested table.\n",
    "# print(df.to_latex(index=False)) # Render object to a LaTeX tabular, longtable, or nested table."
   ]
  },
  {
   "cell_type": "code",
   "execution_count": null,
   "id": "6c993841",
   "metadata": {},
   "outputs": [],
   "source": []
  },
  {
   "cell_type": "code",
   "execution_count": null,
   "id": "d6eaa1dd",
   "metadata": {},
   "outputs": [],
   "source": []
  },
  {
   "cell_type": "code",
   "execution_count": null,
   "id": "b0b1ee84",
   "metadata": {},
   "outputs": [],
   "source": [
    "datasets = Datasets(datasets)\n",
    "# models=[sky_model_CTA, sky_model]\n",
    "models=[sky_model_CTA]\n",
    "dict_leg_style = set_leg_style(dict_leg_style, models = models)\n",
    "\n",
    "dict_plot_limits = dict(\n",
    "    energy_bounds = [5e-2, 1e3] * u.TeV,\n",
    "    ylim = [1e-15, 1e-9]\n",
    ")\n",
    "plot_SED(dict_plot_limits=dict_plot_limits,datasets=datasets, models = models, dict_leg_style=dict_leg_style, region_of_interest=region_of_interest, name= sky_model.name)"
   ]
  },
  {
   "cell_type": "code",
   "execution_count": null,
   "id": "d43eb301",
   "metadata": {},
   "outputs": [],
   "source": [
    "# To save datasets and models\n",
    "datasets.models = [sky_model_CTA]\n",
    "datasets.write(\n",
    "    filename=f\"datasets_{sky_model_CTA.name}.yaml\", filename_models=f\"models_{sky_model_CTA.name}.yaml\", overwrite=True\n",
    ")\n",
    "# # To read only models\n",
    "# models = Models.read(\"3fhl_models.yaml\")\n",
    "# print(models)\n",
    "#To read datasets with models\n",
    "datasets_HESSJ1826_CTA = Datasets.read(f\"datasets_{sky_model_CTA.name}.yaml\", filename_models=f\"models_{sky_model_CTA.name}.yaml\")\n",
    "print(datasets_HESSJ1826_CTA)"
   ]
  },
  {
   "cell_type": "code",
   "execution_count": null,
   "id": "7973e2fb",
   "metadata": {
    "scrolled": true
   },
   "outputs": [],
   "source": [
    "datasets = Datasets(datasets_HESSJ1826_CTA)\n",
    "# models=[sky_model_CTA, sky_model]\n",
    "models=[datasets_HESSJ1826_CTA.models[0]]\n",
    "\n",
    "dict_plot_limits = dict(\n",
    "    energy_bounds = [5e-2, 1e3] * u.TeV,\n",
    "    ylim = [1e-16, 1e-9]\n",
    ")\n",
    "plot_SED(dict_plot_limits=dict_plot_limits,datasets=datasets, models = models, dict_leg_style=dict_leg_style, region_of_interest=region_of_interest, name= sky_model.name)"
   ]
  },
  {
   "cell_type": "code",
   "execution_count": null,
   "id": "d8fa9450",
   "metadata": {},
   "outputs": [],
   "source": []
  },
  {
   "cell_type": "code",
   "execution_count": null,
   "id": "f9e3330d",
   "metadata": {},
   "outputs": [],
   "source": []
  }
 ],
 "metadata": {
  "ipub": {
   "titlepage": {
    "author": "R. P. Costa Jr.",
    "email": "rubensp@utfpr.edu.br",
    "institution": [
     "Federal University of Technology – Paraná (UTFPR) "
    ],
    "logo": "path/to/logo_example.png",
    "subtitle": "Sub-Title",
    "supervisors": [
     "Dr. Rita de Cassia dos Anjos - UFPR",
     "Dr. Alexandre Jose Tuoto Silveira Mello - UTFPR"
    ],
    "tagline": "A tagline for the report.",
    "title": "Main-Title"
   }
  },
  "kernelspec": {
   "display_name": "Python 3 (ipykernel)",
   "language": "python",
   "name": "python3"
  },
  "language_info": {
   "codemirror_mode": {
    "name": "ipython",
    "version": 3
   },
   "file_extension": ".py",
   "mimetype": "text/x-python",
   "name": "python",
   "nbconvert_exporter": "python",
   "pygments_lexer": "ipython3",
   "version": "3.9.16"
  }
 },
 "nbformat": 4,
 "nbformat_minor": 5
}
