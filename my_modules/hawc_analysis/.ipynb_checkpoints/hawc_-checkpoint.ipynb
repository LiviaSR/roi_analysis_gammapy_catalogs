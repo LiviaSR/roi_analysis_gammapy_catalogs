{
 "cells": [
  {
   "cell_type": "code",
   "execution_count": 1,
   "id": "633fb761",
   "metadata": {},
   "outputs": [
    {
     "data": {
      "text/plain": [
       "<module 'cfg' from '/home/born-again/Documents/GitHub/CTA_projects/my_modules/config/cfg.py'>"
      ]
     },
     "execution_count": 1,
     "metadata": {},
     "output_type": "execute_result"
    }
   ],
   "source": [
    "path_my_modules = \"/home/born-again/Documents/GitHub/CTA_projects/my_modules\"\n",
    "import os\n",
    "import sys\n",
    "import importlib\n",
    "\n",
    "module_path = os.path.abspath(f'{path_my_modules}/spectral_models')\n",
    "if module_path not in sys.path:\n",
    "    sys.path.append(module_path)\n",
    "\n",
    "import spectral_models\n",
    "importlib.reload(spectral_models)\n",
    "from spectral_models import (\n",
    "    sky_model_pl,\n",
    "    sky_model_ecpl,\n",
    "    sky_model_lp,\n",
    ")\n",
    "\n",
    "module_path = os.path.abspath(f'{path_my_modules}/utilities')\n",
    "if module_path not in sys.path:\n",
    "    sys.path.append(module_path)\n",
    "\n",
    "import utilities\n",
    "importlib.reload(utilities)\n",
    "from utilities import (\n",
    "    mkdir_sub_directory, \n",
    "    write_tables_fits, \n",
    "    write_tables_csv, \n",
    "    load_catalogs_from_gammapy, \n",
    "    name_to_txt,\n",
    "    LHAASO_table_to_SED_format\n",
    ")\n",
    "\n",
    "module_path = os.path.abspath(f'{path_my_modules}/config')\n",
    "if module_path not in sys.path:\n",
    "    sys.path.append(module_path)\n",
    "\n",
    "import cfg\n",
    "importlib.reload(cfg)"
   ]
  },
  {
   "cell_type": "code",
   "execution_count": 4,
   "id": "4131dfbe",
   "metadata": {},
   "outputs": [
    {
     "data": {
      "text/plain": [
       "'/home/born-again/Documents/GitHub/ROI_analysis_gammapy_catalogs/my_modules/LHAASO/my_modules/spectral_models'"
      ]
     },
     "execution_count": 4,
     "metadata": {},
     "output_type": "execute_result"
    }
   ],
   "source": [
    "def get_dict_HAWC():\n",
    "    # Dictionary of the LHAASO PeVatrons (dict keys: source name) information: \n",
    "# \"position\": Right ascension (in degrees), Declination (in degrees) \n",
    "# \"flux\": Differential photon fluxes at 100 TeV (in Crab Units (CU)), The corresponding error\n",
    "# obs: CU is the flux of the Crab Nebula at 100 TeV; 1 CU = 6.1 x 10-17 photons TeV-1 cm-2 s-1\n",
    "# see https://www.nature.com/articles/s41586-021-03498-z\n",
    "\n",
    "    return {\n",
    "    \"HAWC J1825-138\": {\n",
    "        \"position\": (276.38,-13.86)\n",
    "    },\n",
    "    \"HAWC J1826-128\": {\n",
    "        \"position\": (276.50,-12.86)\n",
    "    },\n",
    "    \"HAWC J1825-134\": {\n",
    "        \"position\": (276.44,-13.42)\n",
    "    },\n",
    "    \"eHWC J1825-134\": {\n",
    "        \"position\": (276.40,-13.37)\n",
    "    },\n",
    "    \"eHWC J1907+063\": {\n",
    "        \"position\": (286.91,6.32)\n",
    "    }, \n",
    "    \"eHWC J2019+368\": {\n",
    "        \"position\": (304.95,36.78)\n",
    "    }, \n",
    "}"
   ]
  },
  {
   "cell_type": "code",
   "execution_count": null,
   "id": "a6fa1a6a",
   "metadata": {},
   "outputs": [],
   "source": []
  },
  {
   "cell_type": "code",
   "execution_count": null,
   "id": "6a0b4051",
   "metadata": {},
   "outputs": [],
   "source": []
  },
  {
   "cell_type": "code",
   "execution_count": null,
   "id": "4205c6c7",
   "metadata": {},
   "outputs": [],
   "source": []
  }
 ],
 "metadata": {
  "kernelspec": {
   "display_name": "Python 3 (ipykernel)",
   "language": "python",
   "name": "python3"
  },
  "language_info": {
   "codemirror_mode": {
    "name": "ipython",
    "version": 3
   },
   "file_extension": ".py",
   "mimetype": "text/x-python",
   "name": "python",
   "nbconvert_exporter": "python",
   "pygments_lexer": "ipython3",
   "version": "3.9.16"
  }
 },
 "nbformat": 4,
 "nbformat_minor": 5
}
