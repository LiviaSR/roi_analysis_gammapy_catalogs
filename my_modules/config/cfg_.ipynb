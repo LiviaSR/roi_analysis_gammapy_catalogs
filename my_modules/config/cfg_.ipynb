{
 "cells": [
  {
   "cell_type": "code",
   "execution_count": null,
   "id": "640dac41",
   "metadata": {},
   "outputs": [],
   "source": [
    "path_fp_HAWC = \"/home/born-again/Documents/GitHub/CTA_projects/flux_points_outside_gammapy_catalogs/HAWC\"\n",
    "path_fp_LHAASO = \"/home/born-again/Documents/GitHub/CTA_projects/flux_points_outside_gammapy_catalogs/LHASSO_publishNature\""
   ]
  },
  {
   "cell_type": "code",
   "execution_count": null,
   "id": "84fe8ba0",
   "metadata": {},
   "outputs": [],
   "source": [
    "dir_config = \"config\"\n",
    "dir_plot_style = \"plot_style\"\n",
    "dir_utilities = \"utilities\"\n",
    "dir_spectral_models = \"spectral_models\"\n",
    "dir_hawc_analysis = \"hawc_analysis\"\n",
    "dir_hess_analysis = \"hess_analysis\"\n",
    "dir_lhaaso_analysis = \"lhaaso_analysis\"\n",
    "dir_cta_simulation = \"cta_simulation\"\n",
    "dir_gammapy_catalogs = \"gammapy_catalogs\""
   ]
  },
  {
   "cell_type": "code",
   "execution_count": null,
   "id": "904bb8cc",
   "metadata": {},
   "outputs": [],
   "source": [
    "color_lhaaso = \"red\"\n",
    "marker_lhaaso = \"o\"\n",
    "\n",
    "color_cta = \"blue\"\n",
    "marker_cta = \"s\""
   ]
  },
  {
   "cell_type": "code",
   "execution_count": 1,
   "id": "4f342457",
   "metadata": {},
   "outputs": [],
   "source": [
    "# catalogs_tags = [\"gamma-cat\", \"hgps\", \"2hwc\", \"3hwc\", \"3fgl\", \"4fgl\", \"2fhl\", \"3fhl\"]"
   ]
  },
  {
   "cell_type": "code",
   "execution_count": null,
   "id": "b111ce40",
   "metadata": {},
   "outputs": [],
   "source": [
    "# markers = ['H', 'D', 'd', 'P', 'X','o', 'v', '^', '<', '>',  '8', 's', 'p', '*', 'h']\n",
    "markers = ['s','o']\n",
    "linestyles = ['solid','dotted','dashed','dashdot']"
   ]
  },
  {
   "cell_type": "code",
   "execution_count": 1,
   "id": "6345152d",
   "metadata": {},
   "outputs": [],
   "source": [
    "colors = [\"aqua\",\n",
    "\"fuchsia\",\n",
    "\"peru\",\n",
    "\"brown\",\n",
    "\"chartreuse\",\n",
    "\"chocolate\",\n",
    "\"coral\",\n",
    "\"khaki\",\n",
    "\"darkblue\",\n",
    "\"cadetblue\",\n",
    "\"pink\",\n",
    "\"indigo\",\n",
    "\"seagreen\",\n",
    "\"crimson\",\n",
    "\"darkmagenta\",\n",
    "\"orange\",\n",
    "\"springgreen\",\n",
    "\"plum\",\n",
    "\"maroon\",\n",
    "\"navy\",\n",
    "\"olive\",\n",
    "\"skyblue\"          \n",
    "\"orange\",\n",
    "\"orangered\",\n",
    "\"orchid\",\n",
    "\"pink\",\n",
    "\"plum\",\n",
    "\"purple\",\n",
    "\"red\",\n",
    "\"salmon\",\n",
    "\"sienna\",\n",
    "\"silver\",\n",
    "\"tan\",\n",
    "\"teal\",\n",
    "\"azure\",\n",
    "\"beige\",\n",
    "\"ivory\",\n",
    "\"black\",\n",
    "\"tomato\",\n",
    "\"turquoise\",\n",
    "\"violet\",\n",
    "\"aquamarine\",\n",
    "\"wheat\",\n",
    "\"white\",\n",
    "\"cyan\",\n",
    "\"blue\",\n",
    "\"lightblue\",\n",
    "\"yellowgreen\"]"
   ]
  },
  {
   "cell_type": "code",
   "execution_count": null,
   "id": "2e0cc04b",
   "metadata": {},
   "outputs": [],
   "source": []
  },
  {
   "cell_type": "code",
   "execution_count": null,
   "id": "265d54ee",
   "metadata": {},
   "outputs": [],
   "source": [
    "format_csv  = '.csv'\n",
    "format_fits = '.fits'\n",
    "format_dat  = '.dat'\n",
    "format_png  = '.png'\n",
    "format_pdf  = '.pdf'\n",
    "format_svg  = '.svg'\n",
    "format_yaml = '.yaml'"
   ]
  },
  {
   "cell_type": "code",
   "execution_count": null,
   "id": "b472aee5",
   "metadata": {},
   "outputs": [],
   "source": []
  },
  {
   "cell_type": "code",
   "execution_count": null,
   "id": "5e4bfb65",
   "metadata": {},
   "outputs": [],
   "source": [
    "sed_type_e2dnde = 'e2dnde'\n",
    "sed_type_dnde   = 'dnde'"
   ]
  },
  {
   "cell_type": "code",
   "execution_count": null,
   "id": "d6b9b19a",
   "metadata": {},
   "outputs": [],
   "source": [
    "unit_deg = 'deg' # Degrees units"
   ]
  },
  {
   "cell_type": "code",
   "execution_count": null,
   "id": "1fa9cba1",
   "metadata": {},
   "outputs": [],
   "source": [
    "frame_icrc = \"icrs\" # International Celestial Reference System (ICRS)"
   ]
  },
  {
   "cell_type": "code",
   "execution_count": 1,
   "id": "02fcb201",
   "metadata": {},
   "outputs": [],
   "source": [
    "# dir_analysis = \"analysis\"\n",
    "dir_analysis = \"analysis\""
   ]
  },
  {
   "cell_type": "code",
   "execution_count": null,
   "id": "03042aab",
   "metadata": {},
   "outputs": [],
   "source": [
    "dir_flux_points_tables = \"flux_points_tables\""
   ]
  },
  {
   "cell_type": "code",
   "execution_count": 1,
   "id": "3c707bfc",
   "metadata": {},
   "outputs": [],
   "source": [
    "# parent directories names\n",
    "dir_flux_points = \"flux_points\"\n",
    "\n",
    "dir_tables = \"tables\"\n",
    "dir_figures = \"figures\"\n",
    "dir_datasets  = \"datasets\"\n",
    "dir_models  = \"models\"\n",
    "\n",
    "dir_catalogs_roi = \"catalogs_roi\"\n",
    "\n",
    "dir_SED = \"SED_models\"\n",
    "dir_SED_from_catalogs = \"SED_from_catalogs\"\n"
   ]
  },
  {
   "cell_type": "code",
   "execution_count": null,
   "id": "4e197d9b",
   "metadata": {},
   "outputs": [],
   "source": []
  },
  {
   "cell_type": "code",
   "execution_count": null,
   "id": "7e6456be",
   "metadata": {},
   "outputs": [],
   "source": [
    "irf_z = [20,40,60]\n",
    "irf_h = [0.5, 5, 50]\n",
    "irf_loc = [(\"cta_north\", \"North\"),(\"cta_south\", \"South\")]"
   ]
  }
 ],
 "metadata": {
  "kernelspec": {
   "display_name": "Python 3 (ipykernel)",
   "language": "python",
   "name": "python3"
  },
  "language_info": {
   "codemirror_mode": {
    "name": "ipython",
    "version": 3
   },
   "file_extension": ".py",
   "mimetype": "text/x-python",
   "name": "python",
   "nbconvert_exporter": "python",
   "pygments_lexer": "ipython3",
   "version": "3.9.16"
  }
 },
 "nbformat": 4,
 "nbformat_minor": 5
}
