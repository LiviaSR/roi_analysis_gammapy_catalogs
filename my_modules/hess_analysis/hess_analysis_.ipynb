{
 "cells": [
  {
   "cell_type": "code",
   "execution_count": null,
   "id": "92186057",
   "metadata": {},
   "outputs": [],
   "source": [
    "import os\n",
    "import sys\n",
    "import importlib\n",
    "path_my_modules = \"/home/born-again/Documents/GitHub/CTA_projects/my_modules\"\n",
    "module_path = os.path.abspath(f'{path_my_modules}/config')\n",
    "if module_path not in sys.path:\n",
    "    sys.path.append(module_path)\n",
    "\n",
    "import cfg\n",
    "importlib.reload(cfg)"
   ]
  },
  {
   "cell_type": "code",
   "execution_count": 1,
   "id": "633fb761",
   "metadata": {},
   "outputs": [
    {
     "data": {
      "text/plain": [
       "<module 'cfg' from '/home/born-again/Documents/GitHub/CTA_projects/my_modules/config/cfg.py'>"
      ]
     },
     "execution_count": 1,
     "metadata": {},
     "output_type": "execute_result"
    }
   ],
   "source": [
    "import os\n",
    "import sys\n",
    "import importlib\n",
    "\n",
    "module_path = os.path.abspath(f'{path_my_modules}/{cfg.dir_spectral_models}')\n",
    "if module_path not in sys.path:\n",
    "    sys.path.append(module_path)\n",
    "\n",
    "import spectral_models as spec\n",
    "importlib.reload(spec)\n",
    "\n",
    "module_path = os.path.abspath(f'{path_my_modules}/{cfg.dir_utilities}')\n",
    "if module_path not in sys.path:\n",
    "    sys.path.append(module_path)\n",
    "\n",
    "import utilities as utl\n",
    "importlib.reload(utl)"
   ]
  },
  {
   "cell_type": "code",
   "execution_count": null,
   "id": "d1f1b1f5",
   "metadata": {},
   "outputs": [],
   "source": [
    "from gammapy.catalog import CATALOG_REGISTRY \n",
    "from gammapy.modeling.models import SkyModel\n",
    "\n",
    "def get_dataset_HESSJ1837069(counterparts, datasets_counterparts, models_counterparts, cat_tag = \"gamma-cat\"):\n",
    "    source_name = \"HESS J1837-069\"\n",
    "\n",
    "    catalog = CATALOG_REGISTRY.get_cls(cat_tag)()\n",
    "    source = catalog[source_name]\n",
    "    if cat_tag == \"gamma-cat\":\n",
    "        spectral_model = source.sky_model().spectral_model\n",
    "    else: \n",
    "        spectral_model = spec.sky_model_pl().spectral_model\n",
    "    \n",
    "    datasets_names = f'{source_name}: {cat_tag}'\n",
    "    name=f\"{utl.name_to_txt(datasets_names)}_{spectral_model.tag[1]}\"\n",
    "    table = source.flux_points.to_table(sed_type=cfg.sed_type_e2dnde)\n",
    "    sky_model = SkyModel(\n",
    "        spectral_model=spectral_model,   \n",
    "        name=name,\n",
    "        datasets_names = datasets_names\n",
    "    )\n",
    "    dataset = utl.ds_fp_from_table_fp(table = table, sky_model = sky_model, source_name=datasets_names)\n",
    "    counterparts.append(source) \n",
    "    datasets_counterparts.append(dataset)\n",
    "    models_counterparts.append(sky_model)"
   ]
  }
 ],
 "metadata": {
  "kernelspec": {
   "display_name": "Python 3 (ipykernel)",
   "language": "python",
   "name": "python3"
  },
  "language_info": {
   "codemirror_mode": {
    "name": "ipython",
    "version": 3
   },
   "file_extension": ".py",
   "mimetype": "text/x-python",
   "name": "python",
   "nbconvert_exporter": "python",
   "pygments_lexer": "ipython3",
   "version": "3.9.16"
  }
 },
 "nbformat": 4,
 "nbformat_minor": 5
}
