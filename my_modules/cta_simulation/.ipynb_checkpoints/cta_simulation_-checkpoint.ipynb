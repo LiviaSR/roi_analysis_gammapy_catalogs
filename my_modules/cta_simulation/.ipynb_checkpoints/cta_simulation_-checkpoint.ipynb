{
 "cells": [
  {
   "cell_type": "code",
   "execution_count": 1,
   "id": "633fb761",
   "metadata": {},
   "outputs": [
    {
     "name": "stdout",
     "output_type": "stream",
     "text": [
      "None\n"
     ]
    },
    {
     "ename": "ImportError",
     "evalue": "cannot import name 'sky_model_pl' from partially initialized module 'spectral_models' (most likely due to a circular import) (/home/born-again/Documents/GitHub/CTA_projects/my_modules/spectral_models/spectral_models.py)",
     "output_type": "error",
     "traceback": [
      "\u001b[0;31m---------------------------------------------------------------------------\u001b[0m",
      "\u001b[0;31mImportError\u001b[0m                               Traceback (most recent call last)",
      "Input \u001b[0;32mIn [1]\u001b[0m, in \u001b[0;36m<cell line: 10>\u001b[0;34m()\u001b[0m\n\u001b[1;32m      7\u001b[0m \u001b[38;5;28;01mif\u001b[39;00m module_path \u001b[38;5;129;01mnot\u001b[39;00m \u001b[38;5;129;01min\u001b[39;00m sys\u001b[38;5;241m.\u001b[39mpath:\n\u001b[1;32m      8\u001b[0m     sys\u001b[38;5;241m.\u001b[39mpath\u001b[38;5;241m.\u001b[39mappend(module_path)\n\u001b[0;32m---> 10\u001b[0m \u001b[38;5;28;01mimport\u001b[39;00m \u001b[38;5;21;01mspectral_models\u001b[39;00m\n\u001b[1;32m     11\u001b[0m importlib\u001b[38;5;241m.\u001b[39mreload(spectral_models)\n\u001b[1;32m     12\u001b[0m \u001b[38;5;28;01mfrom\u001b[39;00m \u001b[38;5;21;01mspectral_models\u001b[39;00m \u001b[38;5;28;01mimport\u001b[39;00m (\n\u001b[1;32m     13\u001b[0m     sky_model_pl,\n\u001b[1;32m     14\u001b[0m     sky_model_ecpl,\n\u001b[1;32m     15\u001b[0m     sky_model_lp,\n\u001b[1;32m     16\u001b[0m )\n",
      "File \u001b[0;32m~/Documents/GitHub/CTA_projects/my_modules/spectral_models/spectral_models.py:30\u001b[0m, in \u001b[0;36m<module>\u001b[0;34m\u001b[0m\n\u001b[1;32m     27\u001b[0m \u001b[38;5;28;01mif\u001b[39;00m module_path \u001b[38;5;129;01mnot\u001b[39;00m \u001b[38;5;129;01min\u001b[39;00m sys\u001b[38;5;241m.\u001b[39mpath:\n\u001b[1;32m     28\u001b[0m     sys\u001b[38;5;241m.\u001b[39mpath\u001b[38;5;241m.\u001b[39mappend(module_path)\n\u001b[0;32m---> 30\u001b[0m \u001b[38;5;28;01mimport\u001b[39;00m \u001b[38;5;21;01mutilities\u001b[39;00m\n\u001b[1;32m     31\u001b[0m importlib\u001b[38;5;241m.\u001b[39mreload(utilities)\n\u001b[1;32m     32\u001b[0m \u001b[38;5;28;01mfrom\u001b[39;00m \u001b[38;5;21;01mutilities\u001b[39;00m \u001b[38;5;28;01mimport\u001b[39;00m (\n\u001b[1;32m     33\u001b[0m     mkdir_sub_directory, \n\u001b[1;32m     34\u001b[0m     write_tables_fits, \n\u001b[0;32m   (...)\u001b[0m\n\u001b[1;32m     37\u001b[0m     name_to_txt,\n\u001b[1;32m     38\u001b[0m )\n",
      "File \u001b[0;32m~/Documents/GitHub/CTA_projects/my_modules/utilities/utilities.py:812\u001b[0m, in \u001b[0;36m<module>\u001b[0;34m\u001b[0m\n\u001b[1;32m    809\u001b[0m     \u001b[38;5;28mprint\u001b[39m(sys\u001b[38;5;241m.\u001b[39mpath\u001b[38;5;241m.\u001b[39mappend(module_path))\n\u001b[1;32m    810\u001b[0m     sys\u001b[38;5;241m.\u001b[39mpath\u001b[38;5;241m.\u001b[39mappend(module_path)\n\u001b[0;32m--> 812\u001b[0m \u001b[38;5;28;01mimport\u001b[39;00m \u001b[38;5;21;01mhawc_analysis\u001b[39;00m \u001b[38;5;28;01mas\u001b[39;00m \u001b[38;5;21;01mhawc\u001b[39;00m\n\u001b[1;32m    815\u001b[0m \u001b[38;5;66;03m# In[ ]:\u001b[39;00m\n\u001b[1;32m    818\u001b[0m module_path \u001b[38;5;241m=\u001b[39m os\u001b[38;5;241m.\u001b[39mpath\u001b[38;5;241m.\u001b[39mabspath(\u001b[38;5;124mf\u001b[39m\u001b[38;5;124m'\u001b[39m\u001b[38;5;132;01m{\u001b[39;00mpath_my_modules\u001b[38;5;132;01m}\u001b[39;00m\u001b[38;5;124m/cta_simulation\u001b[39m\u001b[38;5;124m'\u001b[39m)\n",
      "File \u001b[0;32m~/Documents/GitHub/CTA_projects/my_modules/hawc_analysis/hawc_analysis.py:251\u001b[0m, in \u001b[0;36m<module>\u001b[0;34m\u001b[0m\n\u001b[1;32m    249\u001b[0m \u001b[38;5;28;01mimport\u001b[39;00m \u001b[38;5;21;01mspectral_models\u001b[39;00m\n\u001b[1;32m    250\u001b[0m \u001b[38;5;66;03m# importlib.reload(spectral_models)\u001b[39;00m\n\u001b[0;32m--> 251\u001b[0m \u001b[38;5;28;01mfrom\u001b[39;00m \u001b[38;5;21;01mspectral_models\u001b[39;00m \u001b[38;5;28;01mimport\u001b[39;00m (\n\u001b[1;32m    252\u001b[0m     sky_model_pl,\n\u001b[1;32m    253\u001b[0m     sky_model_ecpl,\n\u001b[1;32m    254\u001b[0m     sky_model_lp,\n\u001b[1;32m    255\u001b[0m )\n\u001b[1;32m    257\u001b[0m module_path \u001b[38;5;241m=\u001b[39m os\u001b[38;5;241m.\u001b[39mpath\u001b[38;5;241m.\u001b[39mabspath(\u001b[38;5;124mf\u001b[39m\u001b[38;5;124m'\u001b[39m\u001b[38;5;132;01m{\u001b[39;00mpath_my_modules\u001b[38;5;132;01m}\u001b[39;00m\u001b[38;5;124m/utilities\u001b[39m\u001b[38;5;124m'\u001b[39m)\n\u001b[1;32m    258\u001b[0m \u001b[38;5;28;01mif\u001b[39;00m module_path \u001b[38;5;129;01mnot\u001b[39;00m \u001b[38;5;129;01min\u001b[39;00m sys\u001b[38;5;241m.\u001b[39mpath:\n",
      "\u001b[0;31mImportError\u001b[0m: cannot import name 'sky_model_pl' from partially initialized module 'spectral_models' (most likely due to a circular import) (/home/born-again/Documents/GitHub/CTA_projects/my_modules/spectral_models/spectral_models.py)"
     ]
    }
   ],
   "source": [
    "path_my_modules = \"/home/born-again/Documents/GitHub/CTA_projects/my_modules\"\n",
    "import os\n",
    "import sys\n",
    "import importlib\n",
    "\n",
    "module_path = os.path.abspath(f'{path_my_modules}/spectral_models')\n",
    "if module_path not in sys.path:\n",
    "    sys.path.append(module_path)\n",
    "\n",
    "import spectral_models\n",
    "importlib.reload(spectral_models)\n",
    "from spectral_models import (\n",
    "    sky_model_pl,\n",
    "    sky_model_ecpl,\n",
    "    sky_model_lp,\n",
    ")\n",
    "\n",
    "module_path = os.path.abspath(f'{path_my_modules}/utilities')\n",
    "if module_path not in sys.path:\n",
    "    sys.path.append(module_path)\n",
    "\n",
    "import utilities\n",
    "importlib.reload(utilities)\n",
    "from utilities import (\n",
    "    mkdir_sub_directory, \n",
    "    write_tables_fits, \n",
    "    write_tables_csv, \n",
    "    load_catalogs_from_gammapy, \n",
    "    name_to_txt,\n",
    ")\n",
    "\n",
    "module_path = os.path.abspath(f'{path_my_modules}/config')\n",
    "if module_path not in sys.path:\n",
    "    sys.path.append(module_path)\n",
    "\n",
    "import cfg\n",
    "importlib.reload(cfg)"
   ]
  },
  {
   "cell_type": "code",
   "execution_count": null,
   "id": "02a64440",
   "metadata": {},
   "outputs": [],
   "source": [
    "from astropy.coordinates import SkyCoord\n",
    "from astropy import units as u\n",
    "\n",
    "def get_dict_pulsars():  \n",
    "    unit_deg = cfg.unit_deg\n",
    "\n",
    "    dict_pulsars = {\n",
    "        'PSR J1826-1334': {\n",
    "            'position': SkyCoord(276.554896, -13.57967, unit=unit_deg), \n",
    "            'distance': 3.1 * u.kpc,\n",
    "            'age': 21.4 * u.kyr,\n",
    "            'luminosity': 2.8e+36 * u.Unit(\"erg s-1\")\n",
    "        },\n",
    "         'PSR J1826-1256': {\n",
    "            'position': SkyCoord(276.53554, -12.94250, unit=unit_deg), \n",
    "            'distance': 1.6 * u.kpc,\n",
    "             'age': 14.4 * u.kyr,\n",
    "             'luminosity': 3.6e+36 * u.Unit(\"erg s-1\")\n",
    "        },\n",
    "         'PSR J1837-0604': {\n",
    "            'position': SkyCoord(279.43146, -6.0803, unit=unit_deg), \n",
    "            'distance': 4.8 * u.kpc,\n",
    "            'age': 33.8 * u.kyr,\n",
    "            'luminosity': 2.0e+36 * u.Unit(\"erg s-1\")\n",
    "        },\n",
    "         'PSR J1838-0537': {\n",
    "            'position': SkyCoord(279.73342, -5.6192, unit=unit_deg), \n",
    "            'distance': 1.3 * u.kpc,\n",
    "             'age': 4.9 * u.kyr,\n",
    "             'luminosity': 6.0e+36 * u.Unit(\"erg s-1\")\n",
    "        },\n",
    "    }\n",
    "    return dict_pulsars"
   ]
  },
  {
   "cell_type": "code",
   "execution_count": 4,
   "id": "4131dfbe",
   "metadata": {},
   "outputs": [
    {
     "data": {
      "text/plain": [
       "'/home/born-again/Documents/GitHub/ROI_analysis_gammapy_catalogs/my_modules/LHAASO/my_modules/spectral_models'"
      ]
     },
     "execution_count": 4,
     "metadata": {},
     "output_type": "execute_result"
    }
   ],
   "source": [
    "from astropy.coordinates import Distance\n",
    "\n",
    "def set_pulsar_info(dict_pulsars, pulsar_index):\n",
    "    \"\"\"\n",
    "    Sets the pulsar info into a dictionary\n",
    "    \"\"\"\n",
    "    pulsar_name = list(dict_pulsars.keys())[pulsar_index]\n",
    "    position_RA = list(dict_pulsars.values())[pulsar_index][\"position\"].ra\n",
    "    position_dec = list(dict_pulsars.values())[pulsar_index][\"position\"].dec\n",
    "    pulsar_pos = SkyCoord(position_RA, position_dec) # Source Position\n",
    "    pulsar_dist = Distance(list(dict_pulsars.values())[pulsar_index][\"distance\"])\n",
    "    pulsar_red = float(pulsar_dist.compute_z()) # The source redshift for this distance assuming its physical distance is a luminosity distance.\n",
    "\n",
    "    return  {\n",
    "        \"name\": pulsar_name,\n",
    "        \"position\": pulsar_pos,\n",
    "        \"distance\": pulsar_dist,\n",
    "        \"redshift\": pulsar_red\n",
    "    }"
   ]
  },
  {
   "cell_type": "code",
   "execution_count": null,
   "id": "502754eb",
   "metadata": {},
   "outputs": [],
   "source": [
    "def get_pointing(pulsar_info, livetime, offset):\n",
    "    return SkyCoord(pulsar_info['position'].ra, pulsar_info['position'].dec + offset, unit=cfg.unit_deg)"
   ]
  },
  {
   "cell_type": "code",
   "execution_count": 3,
   "id": "059304bd",
   "metadata": {},
   "outputs": [],
   "source": [
    "# In this simulation, we use the CTA-1DC irfs shipped with gammapy\n",
    "path_irfs_files = '/home/born-again/Documents/GitHub/gammapy/gammapy-notebooks/0.20.1/tutorials/data/caldb/data/cta/prod3b-v2/bcf'\n",
    "\n",
    "irf_z = [20,40,60]\n",
    "irf_h = [0.5, 5, 50]\n",
    "irf_loc = [(\"cta_north\", \"North\"),(\"cta_south\", \"South\")]"
   ]
  },
  {
   "cell_type": "code",
   "execution_count": 2,
   "id": "a6fa1a6a",
   "metadata": {},
   "outputs": [],
   "source": [
    "def create_irf_name(irf_zenith = 0, irf_hours = 1, irf_site = 1):\n",
    "    return f'{irf_loc[irf_site][1]}_z{irf_z[irf_zenith]}_{irf_h[irf_hours]}h'"
   ]
  },
  {
   "cell_type": "code",
   "execution_count": null,
   "id": "6a0b4051",
   "metadata": {},
   "outputs": [],
   "source": [
    "from gammapy.irf import load_cta_irfs\n",
    "def load_irfs(irf_name):\n",
    "    irf_filename = f\"{path_irfs_files}/{irf_name}/irf_file{cfg.format_fits}\"\n",
    "    return load_cta_irfs(irf_filename)"
   ]
  },
  {
   "cell_type": "code",
   "execution_count": null,
   "id": "531715fc",
   "metadata": {},
   "outputs": [],
   "source": [
    "from gammapy.data import observatory_locations\n",
    "\n",
    "def create_location(irf_site):\n",
    "    return observatory_locations[irf_loc[irf_site][0]]"
   ]
  },
  {
   "cell_type": "code",
   "execution_count": 1,
   "id": "4205c6c7",
   "metadata": {},
   "outputs": [],
   "source": [
    "from gammapy.data import Observation\n",
    "def create_observation(location,pointing,livetime,irfs):\n",
    "    observation = Observation.create(\n",
    "        pointing=pointing,\n",
    "        livetime=livetime,\n",
    "        irfs=irfs,\n",
    "        location=location,\n",
    "    )\n",
    "    return observation"
   ]
  },
  {
   "cell_type": "code",
   "execution_count": null,
   "id": "3218c12e",
   "metadata": {},
   "outputs": [],
   "source": []
  },
  {
   "cell_type": "code",
   "execution_count": 5,
   "id": "2d24bebe",
   "metadata": {},
   "outputs": [],
   "source": [
    "def create_path_model(region_of_interest):\n",
    "    return f\"/home/born-again/Documents/GitHub/CTA_projects/my_notebooks/counterparts/analysis/models/{region_of_interest['roi_name']}\""
   ]
  },
  {
   "cell_type": "code",
   "execution_count": null,
   "id": "aab5f41a",
   "metadata": {},
   "outputs": [],
   "source": [
    "from gammapy.modeling.models import Models\n",
    "\n",
    "def get_spectral_model(region_of_interest, model_name):\n",
    "    path_model = create_path_model(region_of_interest)\n",
    "    models = Models.read(f\"{path_model}/{model_name}{cfg.format_yaml}\")\n",
    "    return models[0].spectral_model"
   ]
  },
  {
   "cell_type": "code",
   "execution_count": null,
   "id": "b63b1230",
   "metadata": {},
   "outputs": [],
   "source": [
    "from gammapy.modeling.models import EBLAbsorptionNormSpectralModel\n",
    "\n",
    "def get_absorption_model(pulsar_info, abs_model = 'franceschini'):\n",
    "    # Available models in gammapy-data:{'franceschini', 'dominguez', 'finke'}\n",
    "    absorption = EBLAbsorptionNormSpectralModel.read_builtin(\n",
    "        reference = abs_model, \n",
    "        redshift=pulsar_info['redshift']\n",
    "    )\n",
    "    return absorption"
   ]
  },
  {
   "cell_type": "code",
   "execution_count": null,
   "id": "022b94ef",
   "metadata": {},
   "outputs": [],
   "source": [
    "from gammapy.modeling.models import SkyModel\n",
    "    \n",
    "def create_abs_sky_model(spectral_model, absorption, model_name):\n",
    "    absspecmodel =  spectral_model * absorption # CompoundSpectralModel\n",
    "    sky_model=SkyModel(\n",
    "#     spectral_model=spectral_model, \n",
    "        spectral_model=absspecmodel, \n",
    "        name=model_name\n",
    "    )\n",
    "    return sky_model\n",
    "\n",
    " "
   ]
  },
  {
   "cell_type": "code",
   "execution_count": null,
   "id": "a0cda6e9",
   "metadata": {},
   "outputs": [],
   "source": [
    "from gammapy.maps import MapAxis\n",
    "\n",
    "def set_reconstructed_energy_axis(e_edges_min, e_edges_max):    \n",
    "    # Reconstructed energy axis\n",
    "    energy_reco = MapAxis.from_energy_bounds(\n",
    "        e_edges_min, \n",
    "        e_edges_max, \n",
    "        nbin=5, \n",
    "        per_decade=True, \n",
    "        name=\"energy\"\n",
    "    )\n",
    "    return energy_reco"
   ]
  },
  {
   "cell_type": "code",
   "execution_count": null,
   "id": "32cfb998",
   "metadata": {},
   "outputs": [],
   "source": [
    "from astropy.coordinates import Angle\n",
    "# astropy affiliated packages imports\n",
    "from regions import CircleSkyRegion\n",
    "\n",
    "def define_on_region(pulsar_info, radius):\n",
    "    on_region_radius = Angle(radius)\n",
    "    on_region = CircleSkyRegion(\n",
    "        center=pulsar_info[\"position\"], \n",
    "        radius=on_region_radius\n",
    "    )\n",
    "    return on_region"
   ]
  },
  {
   "cell_type": "code",
   "execution_count": null,
   "id": "130b3dd5",
   "metadata": {},
   "outputs": [],
   "source": [
    "from gammapy.maps import RegionGeom\n",
    "def define_geometry(on_region, energy_reco):\n",
    "    #Defines the geometry:\n",
    "    geom = RegionGeom.create(\n",
    "        region=on_region, \n",
    "        axes=[energy_reco]\n",
    "    )\n",
    "    return geom"
   ]
  },
  {
   "cell_type": "code",
   "execution_count": null,
   "id": "44f44645",
   "metadata": {},
   "outputs": [],
   "source": [
    "def set_true_energy_axis(e_edges_min, e_edges_max):\n",
    "    # Defines the true energy axis:\n",
    "    # true energy axis should be wider than reco energy axis\n",
    "    energy_true = MapAxis.from_energy_bounds(\n",
    "        0.3*e_edges_min, \n",
    "        3*e_edges_max, \n",
    "        nbin=8, \n",
    "        per_decade=True, \n",
    "        name=\"energy_true\"\n",
    "    )\n",
    "    return energy_true"
   ]
  },
  {
   "cell_type": "code",
   "execution_count": null,
   "id": "2ce55040",
   "metadata": {},
   "outputs": [],
   "source": [
    "from gammapy.makers import SpectrumDatasetMaker\n",
    "def spectrum_dataset_maker():    \n",
    "    # Make spectrum for a single IACT observation:\n",
    "    # The irfs and background are computed at a single fixed offset, which is recommended only for point-sources.\n",
    "    maker = SpectrumDatasetMaker(\n",
    "    #     containment_correction=True, # Apply containment correction for point sources and circular on regions.\n",
    "        selection=[\"edisp\", \"background\", \"exposure\"], # Selecting which maps to make\n",
    "        use_region_center=False\n",
    "    )\n",
    "    return maker"
   ]
  },
  {
   "cell_type": "code",
   "execution_count": null,
   "id": "a90aedc1",
   "metadata": {},
   "outputs": [],
   "source": [
    "from gammapy.makers import SafeMaskMaker\n",
    "def safe_mask_maker():\n",
    "    # Make safe data range mask for a given observation.\n",
    "    return SafeMaskMaker(methods=[\"bkg-peak\"], aeff_percent=10) "
   ]
  },
  {
   "cell_type": "code",
   "execution_count": null,
   "id": "261ff0a9",
   "metadata": {},
   "outputs": [],
   "source": [
    "from gammapy.datasets import SpectrumDataset\n",
    "\n",
    "def create_dataset_empty(geom, energy_true):\n",
    "    # Create a MapDataset object with zero filled maps.\n",
    "    dataset_empty = SpectrumDataset.create(\n",
    "        geom=geom, \n",
    "        energy_axis_true=energy_true,\n",
    "        name=\"obs-0\"\n",
    "    )\n",
    "    return dataset_empty"
   ]
  },
  {
   "cell_type": "code",
   "execution_count": null,
   "id": "d6d0a8b5",
   "metadata": {},
   "outputs": [],
   "source": [
    "def make_map_dataset(maker, safe_maker,dataset_empty, observation,skymodel):\n",
    "    # Make map dataset:\n",
    "    dataset = maker.run(dataset_empty, observation) \n",
    "    dataset = safe_maker.run(dataset, observation)\n",
    "\n",
    "    # Set the model on the dataset, and fake\n",
    "    dataset.models = skymodel\n",
    "    dataset.fake(random_state=42)\n",
    "    return dataset"
   ]
  },
  {
   "cell_type": "code",
   "execution_count": null,
   "id": "c42f7f56",
   "metadata": {},
   "outputs": [],
   "source": [
    "from gammapy.datasets import SpectrumDatasetOnOff\n",
    "\n",
    "def spectrum_dataset_on_off(dataset):\n",
    "    # Spectrum dataset for on-off likelihood fitting.\n",
    "    dataset_onoff = SpectrumDatasetOnOff.from_spectrum_dataset(\n",
    "        dataset=dataset, \n",
    "        acceptance=1, \n",
    "        acceptance_off=5\n",
    "    )\n",
    "\n",
    "    # Simulate fake counts (on and off) for the current model and reduced IRFs.\n",
    "    dataset_onoff.fake(\n",
    "        random_state='random-seed', \n",
    "        npred_background=dataset.npred_background()\n",
    "    )\n",
    "    return dataset_onoff\n"
   ]
  },
  {
   "cell_type": "code",
   "execution_count": null,
   "id": "5df2ff7b",
   "metadata": {},
   "outputs": [],
   "source": [
    "from gammapy.stats import WStatCountsStatistic\n",
    "\n",
    "def compute_significance(dataset_onoff):\n",
    "    # Class to compute statistics for Poisson distributed variable with unknown background.\n",
    "    significance = WStatCountsStatistic(\n",
    "        n_on=sum(dataset_onoff.counts.data), \n",
    "        n_off=sum(dataset_onoff.counts_off.data), \n",
    "        alpha=0.2).sqrt_ts\n",
    "    return significance"
   ]
  },
  {
   "cell_type": "code",
   "execution_count": null,
   "id": "f82c1b8d",
   "metadata": {},
   "outputs": [],
   "source": [
    "from gammapy.datasets import Datasets\n",
    "\n",
    "def simulate_observations(n_obs,dataset, dataset_onoff):    \n",
    "    datasets = Datasets()\n",
    "\n",
    "    for idx in range(n_obs):\n",
    "        dataset_onoff.fake(\n",
    "            random_state=idx, \n",
    "            npred_background=dataset.npred_background()\n",
    "        )\n",
    "        dataset_fake = dataset_onoff.copy(name=f\"obs-{idx}\")\n",
    "        dataset_fake.meta_table[\"OBS_ID\"] = [idx]\n",
    "        datasets.append(dataset_fake)\n",
    "    return datasets"
   ]
  },
  {
   "cell_type": "code",
   "execution_count": null,
   "id": "e5e9fb97",
   "metadata": {},
   "outputs": [],
   "source": [
    "from gammapy.modeling import Fit\n",
    "from gammapy.estimators import FluxPointsEstimator\n",
    "def compute_flux_points(datasets, skymodel, e_edges_min,e_edges_max):\n",
    "    #Compute flux points\n",
    "    datasets.models = [skymodel]\n",
    "\n",
    "    fit_joint = Fit()\n",
    "    result_joint = fit_joint.run(datasets=datasets)\n",
    "\n",
    "    # we make a copy here to compare it later\n",
    "    model_best_joint = skymodel.copy()\n",
    "\n",
    "    energy_edges = MapAxis.from_energy_bounds(e_edges_min,e_edges_max, nbin=12).edges\n",
    "\n",
    "    fpe = FluxPointsEstimator(energy_edges=energy_edges, source=skymodel.name, selection_optional=\"all\")\n",
    "    flux_points = fpe.run(datasets=datasets)\n",
    "    table = flux_points.to_table(sed_type=\"e2dnde\", formatted=True)\n",
    "    CTA_table = set_CTA_table_to_erg(table)\n",
    "\n",
    "    return datasets, model_best_joint, CTA_table"
   ]
  },
  {
   "cell_type": "code",
   "execution_count": null,
   "id": "2054cb77",
   "metadata": {},
   "outputs": [],
   "source": [
    "def set_CTA_table_to_erg(table):\n",
    "    table[\"e2dnde\"][:] = table[\"e2dnde\"].to(u.Unit(\"erg cm-2 s-1\")) \n",
    "    table[\"e2dnde\"].unit = u.Unit(\"erg cm-2 s-1\")\n",
    "\n",
    "    table[\"e2dnde_err\"][:] = table[\"e2dnde_err\"].to(u.Unit(\"erg cm-2 s-1\")) \n",
    "    table[\"e2dnde_err\"].unit = u.Unit(\"erg cm-2 s-1\")\n",
    "\n",
    "    table[\"e2dnde_errp\"][:] = table[\"e2dnde_errp\"].to(u.Unit(\"erg cm-2 s-1\")) \n",
    "    table[\"e2dnde_errp\"].unit = u.Unit(\"erg cm-2 s-1\")\n",
    "\n",
    "    table[\"e2dnde_errn\"][:] = table[\"e2dnde_errn\"].to(u.Unit(\"erg cm-2 s-1\")) \n",
    "    table[\"e2dnde_errn\"].unit = u.Unit(\"erg cm-2 s-1\")\n",
    "\n",
    "    table[\"e2dnde_ul\"][:] = table[\"e2dnde_ul\"].to(u.Unit(\"erg cm-2 s-1\")) \n",
    "    table[\"e2dnde_ul\"].unit = u.Unit(\"erg cm-2 s-1\")\n",
    "    return table"
   ]
  }
 ],
 "metadata": {
  "kernelspec": {
   "display_name": "Python 3 (ipykernel)",
   "language": "python",
   "name": "python3"
  },
  "language_info": {
   "codemirror_mode": {
    "name": "ipython",
    "version": 3
   },
   "file_extension": ".py",
   "mimetype": "text/x-python",
   "name": "python",
   "nbconvert_exporter": "python",
   "pygments_lexer": "ipython3",
   "version": "3.9.16"
  }
 },
 "nbformat": 4,
 "nbformat_minor": 5
}
